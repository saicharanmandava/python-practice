{
  "nbformat": 4,
  "nbformat_minor": 0,
  "metadata": {
    "colab": {
      "name": "List(22/03/22).ipynb",
      "provenance": [],
      "authorship_tag": "ABX9TyPw68qMGKXrpPZm3JjmLJfk",
      "include_colab_link": true
    },
    "kernelspec": {
      "name": "python3",
      "display_name": "Python 3"
    },
    "language_info": {
      "name": "python"
    }
  },
  "cells": [
    {
      "cell_type": "markdown",
      "metadata": {
        "id": "view-in-github",
        "colab_type": "text"
      },
      "source": [
        "<a href=\"https://colab.research.google.com/github/smandava22/python-practice/blob/main/List(22_03_22).ipynb\" target=\"_parent\"><img src=\"https://colab.research.google.com/assets/colab-badge.svg\" alt=\"Open In Colab\"/></a>"
      ]
    },
    {
      "cell_type": "code",
      "execution_count": 8,
      "metadata": {
        "colab": {
          "base_uri": "https://localhost:8080/"
        },
        "id": "FAX-r6xz4aeN",
        "outputId": "4ffb94e6-3185-47d6-da3d-063386ecb63c"
      },
      "outputs": [
        {
          "output_type": "stream",
          "name": "stdout",
          "text": [
            "mango\n"
          ]
        }
      ],
      "source": [
        "fruit=['mango','apple','pineapple','banana','orange']\n",
        "print(fruit[0])"
      ]
    },
    {
      "cell_type": "code",
      "source": [
        "fruit=['mango','apple','pineapple','banana','orange']\n",
        "print(fruit[2:5])"
      ],
      "metadata": {
        "colab": {
          "base_uri": "https://localhost:8080/"
        },
        "id": "b7BPSXn66D5G",
        "outputId": "3d5ca154-18b6-4065-c5ed-558c2af805e6"
      },
      "execution_count": 9,
      "outputs": [
        {
          "output_type": "stream",
          "name": "stdout",
          "text": [
            "['pineapple', 'banana', 'orange']\n"
          ]
        }
      ]
    },
    {
      "cell_type": "code",
      "source": [
        "fruit=['mango','apple','pineapple','banana','orange']\n",
        "print(fruit[-1])"
      ],
      "metadata": {
        "colab": {
          "base_uri": "https://localhost:8080/"
        },
        "id": "ifQIKa4d6JF1",
        "outputId": "21329329-bc86-463a-8c82-8da20cb24275"
      },
      "execution_count": 10,
      "outputs": [
        {
          "output_type": "stream",
          "name": "stdout",
          "text": [
            "orange\n"
          ]
        }
      ]
    },
    {
      "cell_type": "code",
      "source": [
        "fruit=['mango','apple','pineapple','banana','orange']\n",
        "print(fruit[:3])"
      ],
      "metadata": {
        "colab": {
          "base_uri": "https://localhost:8080/"
        },
        "id": "wgU-Sdsl7fQG",
        "outputId": "5e744805-da67-44ae-8d48-f96c8302d8d7"
      },
      "execution_count": 11,
      "outputs": [
        {
          "output_type": "stream",
          "name": "stdout",
          "text": [
            "['mango', 'apple', 'pineapple']\n"
          ]
        }
      ]
    },
    {
      "cell_type": "code",
      "source": [
        "fruit=['mango','apple','pineapple','banana','orange']\n",
        "print(fruit[3:])"
      ],
      "metadata": {
        "colab": {
          "base_uri": "https://localhost:8080/"
        },
        "id": "BR068Zzj7mn9",
        "outputId": "979e6dd8-6bb0-46b4-e91b-f6cfabd67b99"
      },
      "execution_count": 12,
      "outputs": [
        {
          "output_type": "stream",
          "name": "stdout",
          "text": [
            "['banana', 'orange']\n"
          ]
        }
      ]
    },
    {
      "cell_type": "code",
      "source": [
        "# Appending and Extending lists in Python\n",
        "odd = [1, 3, 5]\n",
        "odd.append(7)\n",
        "print(odd)\n",
        "odd.extend([9, 11, 13])\n",
        "print(odd)\n",
        "#We can add one item to a list using the append() method or add several items using the extend() method."
      ],
      "metadata": {
        "colab": {
          "base_uri": "https://localhost:8080/"
        },
        "id": "UgR8Mel67qd1",
        "outputId": "d30bda43-cc92-4fa9-d289-880d74d656aa"
      },
      "execution_count": 13,
      "outputs": [
        {
          "output_type": "stream",
          "name": "stdout",
          "text": [
            "[1, 3, 5, 7]\n",
            "[1, 3, 5, 7, 9, 11, 13]\n"
          ]
        }
      ]
    },
    {
      "cell_type": "code",
      "source": [
        "odd=['1','2','3','4']\n",
        "even=['67','765','8767','69']\n",
        "print(even + odd)\n",
        "print(odd[0+3])\n",
        "print(odd[0]+odd[1])"
      ],
      "metadata": {
        "colab": {
          "base_uri": "https://localhost:8080/"
        },
        "id": "-M6189P28Ta2",
        "outputId": "0c87b386-e96b-4a96-d149-3f1eef8c61b9"
      },
      "execution_count": 19,
      "outputs": [
        {
          "output_type": "stream",
          "name": "stdout",
          "text": [
            "['67', '765', '8767', '69', '1', '2', '3', '4']\n",
            "4\n",
            "12\n"
          ]
        }
      ]
    },
    {
      "cell_type": "code",
      "source": [
        "# Demonstration of list insert() method\n",
        "odd = [1, 9]\n",
        "odd.insert(1,3)\n",
        "\n",
        "print(odd)\n",
        "\n",
        "odd[2:2] = [5, 7]\n",
        "\n",
        "print(odd)"
      ],
      "metadata": {
        "id": "sXUJDaJ8AQPI"
      },
      "execution_count": null,
      "outputs": []
    },
    {
      "cell_type": "code",
      "source": [
        "a=[1,2,3,4,5]\n",
        "print(len(a))\n",
        "a.append(7)\n",
        "print(a)\n",
        "a.extend([11,22,445])\n",
        "print(a)\n",
        "a.insert(1,3)\n",
        "print(a)\n",
        "del a[3]\n",
        "print(a)\n",
        "del a[1:4]\n",
        "print(a)"
      ],
      "metadata": {
        "colab": {
          "base_uri": "https://localhost:8080/"
        },
        "id": "AXTRLxm7DDsg",
        "outputId": "7e24026b-bde4-4c45-d03e-153e719cf8c0"
      },
      "execution_count": 41,
      "outputs": [
        {
          "output_type": "stream",
          "name": "stdout",
          "text": [
            "5\n",
            "[1, 2, 3, 4, 5, 7]\n",
            "[1, 2, 3, 4, 5, 7, 11, 22, 445]\n",
            "[1, 3, 2, 3, 4, 5, 7, 11, 22, 445]\n",
            "[1, 3, 2, 4, 5, 7, 11, 22, 445]\n",
            "[1, 5, 7, 11, 22, 445]\n"
          ]
        }
      ]
    },
    {
      "cell_type": "code",
      "source": [
        "\n",
        "vowels = ['a', 'e', 'i', 'o', 'i', 'u']\n",
        "index = vowels.index('e')\n",
        "print('The index of e:', index)\n",
        "index = vowels.index('i')\n",
        "print('The index of i:', index)"
      ],
      "metadata": {
        "colab": {
          "base_uri": "https://localhost:8080/"
        },
        "id": "JC17GPdOGBMp",
        "outputId": "02230228-0a30-4708-f831-24f0a425460e"
      },
      "execution_count": 25,
      "outputs": [
        {
          "output_type": "stream",
          "name": "stdout",
          "text": [
            "The index of e: 1\n",
            "The index of i: 2\n"
          ]
        }
      ]
    },
    {
      "cell_type": "code",
      "source": [
        "a = [2, 3, 5, 7, 9, 11]\n",
        "a.remove(9)\n",
        "print(a)\n",
        "a.reverse()\n",
        "print(a)"
      ],
      "metadata": {
        "colab": {
          "base_uri": "https://localhost:8080/"
        },
        "id": "uk4CQs9VG7mp",
        "outputId": "51b963b1-6b93-44f5-a652-a245bb741007"
      },
      "execution_count": 31,
      "outputs": [
        {
          "output_type": "stream",
          "name": "stdout",
          "text": [
            "[2, 3, 5, 7, 11]\n",
            "[11, 7, 5, 3, 2]\n"
          ]
        }
      ]
    },
    {
      "cell_type": "code",
      "source": [
        "\n",
        "a = [2, 3, 5, 7]\n",
        "b = a.pop(2)\n",
        "print('Removed Element:', b)\n",
        "print('Updated List:', a)"
      ],
      "metadata": {
        "colab": {
          "base_uri": "https://localhost:8080/"
        },
        "id": "0gFz4gSwKxo5",
        "outputId": "853d2b9f-44a2-4671-d86a-1dac104ac04d"
      },
      "execution_count": 32,
      "outputs": [
        {
          "output_type": "stream",
          "name": "stdout",
          "text": [
            "Removed Element: 5\n",
            "Updated List: [2, 3, 7]\n"
          ]
        }
      ]
    },
    {
      "cell_type": "code",
      "source": [
        "a = [11, 3, 7, 5, 2]\n",
        "#ascending\n",
        "a.sort()\n",
        "print(a)\n",
        "#descending\n",
        "a.sort(reverse=True)\n",
        "print(a)\n",
        "a.clear()\n",
        "print(a)"
      ],
      "metadata": {
        "colab": {
          "base_uri": "https://localhost:8080/"
        },
        "id": "fa4ylqOILLNQ",
        "outputId": "c21e9390-7127-4bf9-ca02-97918cf0b08c"
      },
      "execution_count": 37,
      "outputs": [
        {
          "output_type": "stream",
          "name": "stdout",
          "text": [
            "[2, 3, 5, 7, 11]\n",
            "[11, 7, 5, 3, 2]\n",
            "[]\n"
          ]
        }
      ]
    },
    {
      "cell_type": "code",
      "source": [
        "fruit=['play boy sai pavan']\n",
        "print(len(fruit))\n"
      ],
      "metadata": {
        "colab": {
          "base_uri": "https://localhost:8080/"
        },
        "id": "MEvGeRAwMrgr",
        "outputId": "d0527c15-74ad-4358-8897-8b4a5bdbea13"
      },
      "execution_count": 42,
      "outputs": [
        {
          "output_type": "stream",
          "name": "stdout",
          "text": [
            "1\n"
          ]
        }
      ]
    }
  ]
}