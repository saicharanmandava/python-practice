{
  "nbformat": 4,
  "nbformat_minor": 0,
  "metadata": {
    "colab": {
      "name": "module2.ipynb",
      "provenance": [],
      "authorship_tag": "ABX9TyN0l/cNUD9xKD16e7Avq3h9",
      "include_colab_link": true
    },
    "kernelspec": {
      "name": "python3",
      "display_name": "Python 3"
    },
    "language_info": {
      "name": "python"
    }
  },
  "cells": [
    {
      "cell_type": "markdown",
      "metadata": {
        "id": "view-in-github",
        "colab_type": "text"
      },
      "source": [
        "<a href=\"https://colab.research.google.com/github/smandava22/python-practice/blob/main/module2.ipynb\" target=\"_parent\"><img src=\"https://colab.research.google.com/assets/colab-badge.svg\" alt=\"Open In Colab\"/></a>"
      ]
    },
    {
      "cell_type": "code",
      "source": [
        "#Create a function which accepts two inputs from the user and compute nCr\n",
        "def fac(a):\n",
        "  f=1\n",
        "  for i in range(1,a+1):\n",
        "      f=f*i\n",
        "  return f\n",
        "def Ncr(n,r):\n",
        "  x=fac(n)\n",
        "  y=fac(r)\n",
        "  z=fac(n-r)\n",
        "  ncr=x/(y*z)\n",
        "  return ncr\n",
        "n=int(input())\n",
        "r=int(input())\n",
        "Ncr(n,r)"
      ],
      "metadata": {
        "id": "VfoSVmBHSChL"
      },
      "execution_count": null,
      "outputs": []
    },
    {
      "cell_type": "code",
      "source": [
        "#Recursive function to compute GCD of 2 numbers\n",
        "def gcd(a,b):\n",
        "  if b==0:\n",
        "    return a\n",
        "  else:\n",
        "    return gcd(a,a%b)\n",
        "a=int(input())\n",
        "b=int(input())\n",
        "res=gcd(a,b)\n",
        "print(res)"
      ],
      "metadata": {
        "id": "SbEOs8OAzG-j"
      },
      "execution_count": null,
      "outputs": []
    },
    {
      "cell_type": "code",
      "source": [
        "#Recursive function to find product of two numbers\n",
        "def product( x , y ):\n",
        "\tif x < y:\n",
        "\t\treturn product(y, x)\n",
        "\telif y != 0:\n",
        "\t\treturn (x + product(x, y - 1))\n",
        "\telse:\n",
        "\t\treturn 0\n",
        "x = int(input())\n",
        "y = int(input())\n",
        "print( product(x, y))"
      ],
      "metadata": {
        "id": "YlD4PebrzWiR"
      },
      "execution_count": null,
      "outputs": []
    },
    {
      "cell_type": "code",
      "source": [
        "#Recursive function to generate Fibonacci series\n",
        "# Python program to display the Fibonacci sequence\n",
        "\n",
        "def fibonacci(n):\n",
        "   if n <= 1:\n",
        "       return n\n",
        "   else:\n",
        "       return(fibonacci(n-1) + fibonacci(n-2))\n",
        "x = int(input())\n",
        "if x <= 0:\n",
        "   print(\"Plese enter a positive integer\")\n",
        "else:\n",
        "   for i in range(x):\n",
        "       print(fibonacci(i))\n"
      ],
      "metadata": {
        "id": "dTB7eCYj0rgT"
      },
      "execution_count": null,
      "outputs": []
    },
    {
      "cell_type": "code",
      "source": [
        "#Program to print a specified list after removing the 0th, 4th and 5th elements.\n",
        "#Sample List : ['Red', 'Green', 'White', 'Black', 'Pink', 'Yellow']\n",
        "#Expected Output : ['Green', 'White', 'Black']\n",
        "def list(a):\n",
        "  if z>x and z>y:\n",
        "    if y>x:\n",
        "      a.pop(z)\n",
        "      a.pop(y)\n",
        "      a.pop(x)\n",
        "    else:\n",
        "      a.pop(z)\n",
        "      a.pop(x)\n",
        "      a.pop(y)\n",
        "  elif y>z and y>x:\n",
        "    if x>z:\n",
        "      a.pop(y)\n",
        "      a.pop(x)\n",
        "      a.pop(z)\n",
        "    else:\n",
        "      a.pop(y)\n",
        "      a.pop(z)\n",
        "      a.pop(x)\n",
        "  else:\n",
        "    if z>y:\n",
        "      a.pop(x)\n",
        "      a.pop(z)\n",
        "      a.pop(y)\n",
        "    else:\n",
        "      a.pop(x)\n",
        "      a.pop(y)\n",
        "      a.pop(z)\n",
        "  return a\n",
        "a=[]\n",
        "b=int(input())\n",
        "for i in range(b):\n",
        "  c=input()\n",
        "  a.append(c)\n",
        "x=int(input())\n",
        "y=int(input())\n",
        "z=int(input())\n",
        "print(list(a))"
      ],
      "metadata": {
        "id": "-tzloXZjvCfv"
      },
      "execution_count": null,
      "outputs": []
    },
    {
      "cell_type": "code",
      "source": [
        "#Program to get the difference between the two lists\n",
        "def diff(a,b):\n",
        "  m=set(a)\n",
        "  n=set(b)\n",
        "  x=(m-n)\n",
        "  x=list(x)\n",
        "  return x\n",
        "a=['sai','charan','ntr','ram','laxman']\n",
        "b=['sai','charan']\n",
        "print(diff(a,b))"
      ],
      "metadata": {
        "id": "fAKSWQIZxAo9"
      },
      "execution_count": null,
      "outputs": []
    },
    {
      "cell_type": "code",
      "source": [
        "#Program to find the second smallest number and second largest number in a list.\n",
        "def min(a):\n",
        "  a.sort()\n",
        "  return a[1],a[-2]\n",
        "a=[1,2,3,78,3,6,8,4,38,8,44,78,5,4,8]\n",
        "print(min(a))"
      ],
      "metadata": {
        "id": "QtersXrPxDF0"
      },
      "execution_count": null,
      "outputs": []
    },
    {
      "cell_type": "code",
      "source": [
        "#Given a list of numbers of list, write a Python program to create a list of tuples\n",
        "#having first element as the number and second element as the square of the\n",
        "#number\n",
        "def list(a):\n",
        "  b=[]\n",
        "  for i in a:\n",
        "    x=tuple((i,i*i))\n",
        "    b.append(x)\n",
        "  return b\n",
        "a=[1,2,3,4,5,6,7,8,9]\n",
        "print(list(a))"
      ],
      "metadata": {
        "id": "t8RlSaiCxvAE"
      },
      "execution_count": null,
      "outputs": []
    },
    {
      "cell_type": "code",
      "source": [
        "#Program to generate and print a dictionary that contains a number (between 1\n",
        "#and n) in the form (x, x*x). \n",
        "def dic(n):\n",
        "  for x in range(1,n+1):\n",
        "    d[x]=x*x\n",
        "  return d\n",
        "n=int(input())\n",
        "d=dict()\n",
        "print(dic(n))"
      ],
      "metadata": {
        "id": "JvsiONKl1H8k"
      },
      "execution_count": null,
      "outputs": []
    },
    {
      "cell_type": "code",
      "source": [
        "#Program to remove a key from a dictionary\n",
        "Dict = {'a':1,'b':2,'c':3,'d':4}\n",
        "print(Dict)\n",
        "if 'a' in Dict: \n",
        "    del Dict['a']\n",
        "print(Dict)\n"
      ],
      "metadata": {
        "id": "q49PIkGo3hED"
      },
      "execution_count": null,
      "outputs": []
    },
    {
      "cell_type": "code",
      "source": [
        "# Program to get the maximum and minimum value in a dictionary.\n",
        "def maxmin():\n",
        "  details={'sai charan':18,'sai pavan':21,'rohan':17}\n",
        "  maximum=max(details)\n",
        "  minimum=min(details)\n",
        "  print(maximum)\n",
        "  print(minimum)\n",
        "maxmin()"
      ],
      "metadata": {
        "id": "HqQmaDsrz5n1"
      },
      "execution_count": null,
      "outputs": []
    },
    {
      "cell_type": "code",
      "source": [
        "#Program for Counting occurrence of a certain element in a string, getting indexes that\n",
        "#have matching elements.For ex -.In Rabbit count how many times b has occurred .\n",
        "def occur(a):\n",
        "  b=str(input())\n",
        "  c=a.count(b)\n",
        "  return c\n",
        "a=str(input())\n",
        "print(occur(a))"
      ],
      "metadata": {
        "id": "oPZQYGFw4xwu"
      },
      "execution_count": null,
      "outputs": []
    },
    {
      "cell_type": "code",
      "source": [
        "#Program for replacing one substring by another For example - Rabbit - Replace 'bb' by 'cc'\n",
        "def replace(a):\n",
        "  b=str(input())\n",
        "  c=str(input())\n",
        "  x=a.replace(b,c)\n",
        "  return x\n",
        "a=str(input())\n",
        "print(replace(a))"
      ],
      "metadata": {
        "id": "wiDtY6WZ5Cx8"
      },
      "execution_count": null,
      "outputs": []
    },
    {
      "cell_type": "code",
      "source": [
        "# Program to Acronym generator for any user input (ex-input is Random memory access\n",
        "#then output should be RMA).Example - Random number (RN)\n",
        "def acronym(a):\n",
        "  b=a.upper()\n",
        "  d=b.split(' ')\n",
        "  c=\"\"\n",
        "  for i in d:\n",
        "    c=c+i[0]\n",
        "  return c\n",
        "a=str(input())\n",
        "print(acronym(a))"
      ],
      "metadata": {
        "id": "WxtHQnTU5NYI"
      },
      "execution_count": null,
      "outputs": []
    },
    {
      "cell_type": "code",
      "source": [
        "#Python function that accepts a string and calculates the number of uppercase\n",
        "#letters and lowercase letters.\n",
        "def string(a):\n",
        "  x=0\n",
        "  y=0\n",
        "  for i in a:\n",
        "    if i.isupper():\n",
        "      x=x+1\n",
        "    elif i.islower():\n",
        "      y=y+1\n",
        "  print(x,y)\n",
        "a=str(input())\n",
        "string(a)"
      ],
      "metadata": {
        "id": "Bu1v6VY-5dbF"
      },
      "execution_count": null,
      "outputs": []
    },
    {
      "cell_type": "code",
      "source": [
        "#Program to count the number of strings where the string length is 2 or more and\n",
        "#the first and last character are same from a given list of strings\n",
        "# Sample List : ['abc', 'xyz', 'aba', '1221'] Expected Result : 2\n",
        "def length(a):\n",
        "  z=0\n",
        "  for i in a:\n",
        "    if len(i)>2:\n",
        "      if i[0]==i[-1]:\n",
        "        z=z+1\n",
        "  return z\n",
        "a=[]\n",
        "b=int(input())\n",
        "for i in range(b):\n",
        "  c=input()\n",
        "  a.append(c)\n",
        "print(length(a))"
      ],
      "metadata": {
        "id": "0xmfZuPM5ym3"
      },
      "execution_count": null,
      "outputs": []
    }
  ]
}