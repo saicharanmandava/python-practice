{
  "nbformat": 4,
  "nbformat_minor": 0,
  "metadata": {
    "colab": {
      "name": "module2.ipynb",
      "provenance": [],
      "authorship_tag": "ABX9TyMFgH1J+Vm5czODxAdRt34+",
      "include_colab_link": true
    },
    "kernelspec": {
      "name": "python3",
      "display_name": "Python 3"
    },
    "language_info": {
      "name": "python"
    }
  },
  "cells": [
    {
      "cell_type": "markdown",
      "metadata": {
        "id": "view-in-github",
        "colab_type": "text"
      },
      "source": [
        "<a href=\"https://colab.research.google.com/github/smandava22/python-practice/blob/main/module2.ipynb\" target=\"_parent\"><img src=\"https://colab.research.google.com/assets/colab-badge.svg\" alt=\"Open In Colab\"/></a>"
      ]
    },
    {
      "cell_type": "code",
      "source": [
        "def fac(a):\n",
        "  f=1\n",
        "  for i in range(1,a+1):\n",
        "      f=f*i\n",
        "  return f\n",
        "def Ncr(n,r):\n",
        "  x=fac(n)\n",
        "  y=fac(r)\n",
        "  z=fac(n-r)\n",
        "  ncr=x/(y*z)\n",
        "  return ncr\n",
        "n=int(input())\n",
        "r=int(input())\n",
        "Ncr(n,r)"
      ],
      "metadata": {
        "colab": {
          "base_uri": "https://localhost:8080/"
        },
        "id": "VfoSVmBHSChL",
        "outputId": "5191de6c-bd76-4da4-c36e-18bf965eb884"
      },
      "execution_count": 30,
      "outputs": [
        {
          "name": "stdout",
          "output_type": "stream",
          "text": [
            "10\n",
            "5\n"
          ]
        },
        {
          "output_type": "execute_result",
          "data": {
            "text/plain": [
              "252.0"
            ]
          },
          "metadata": {},
          "execution_count": 30
        }
      ]
    }
  ]
}