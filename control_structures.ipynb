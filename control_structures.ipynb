{
  "nbformat": 4,
  "nbformat_minor": 0,
  "metadata": {
    "colab": {
      "name": "control structures.ipynb",
      "provenance": [],
      "authorship_tag": "ABX9TyN+leWWRCLZA/RZ3+o3G3iH",
      "include_colab_link": true
    },
    "kernelspec": {
      "name": "python3",
      "display_name": "Python 3"
    },
    "language_info": {
      "name": "python"
    }
  },
  "cells": [
    {
      "cell_type": "markdown",
      "metadata": {
        "id": "view-in-github",
        "colab_type": "text"
      },
      "source": [
        "<a href=\"https://colab.research.google.com/github/smandava22/python-practice/blob/main/control_structures.ipynb\" target=\"_parent\"><img src=\"https://colab.research.google.com/assets/colab-badge.svg\" alt=\"Open In Colab\"/></a>"
      ]
    },
    {
      "cell_type": "code",
      "execution_count": 8,
      "metadata": {
        "colab": {
          "base_uri": "https://localhost:8080/"
        },
        "id": "3XEig_6mPyOj",
        "outputId": "c39d2e14-d2e9-42f2-ead5-712b19b2818a"
      },
      "outputs": [
        {
          "output_type": "stream",
          "name": "stdout",
          "text": [
            "not eligible\n"
          ]
        }
      ],
      "source": [
        "#find out the person eligible for voting or not\n",
        "a=17\n",
        "if a>=18:\n",
        "        print(\"eligible\")\n",
        "else:\n",
        "        print(\"not eligible\")\n",
        "#static "
      ]
    },
    {
      "cell_type": "code",
      "source": [
        "#find out the maximum of three numbers\n",
        "a=int(input(\"\"))\n",
        "b=int(input(\"\"))\n",
        "c=int(input(\"\"))\n",
        "if a>b:\n",
        "  if a>c:\n",
        "        print(a)\n",
        "  else:\n",
        "       print(c)\n",
        "if b>a:\n",
        "  if b>c:\n",
        "         print(b)\n",
        "  else:\n",
        "       print(c)              "
      ],
      "metadata": {
        "colab": {
          "base_uri": "https://localhost:8080/"
        },
        "id": "mCzh_ZhNRuW0",
        "outputId": "64c70707-4390-4699-bc36-e8ebe98d81ab"
      },
      "execution_count": 19,
      "outputs": [
        {
          "output_type": "stream",
          "name": "stdout",
          "text": [
            "10\n",
            "20\n",
            "0\n",
            "20\n"
          ]
        }
      ]
    },
    {
      "cell_type": "code",
      "source": [
        ""
      ],
      "metadata": {
        "id": "ZFOlXzZjTYcq"
      },
      "execution_count": null,
      "outputs": []
    },
    {
      "cell_type": "code",
      "source": [
        "#find out the five subjects marks and find amongst them\n",
        "a=int(input(\"\"))\n",
        "b=int(input(\"\"))\n",
        "c=int(input(\"\"))\n",
        "d=int(input(\"\"))\n",
        "e=int(input(\"\"))\n",
        "if a>b and a>c and a>d and a>e:\n",
        "                               print(a)\n",
        "elif b>a and b>c and b>d and b>e:\n",
        "                                 print(b)\n",
        "elif c>a and c>b and c>d and c>e:\n",
        "                                 print(c)\n",
        "elif d>a and d>b and d>c and d>e:\n",
        "                                 print(d)\n",
        "else:\n",
        "     print(e)"
      ],
      "metadata": {
        "colab": {
          "base_uri": "https://localhost:8080/"
        },
        "id": "urt8JRNNTwP6",
        "outputId": "40644c09-9bfd-4b19-8ef0-000366767c30"
      },
      "execution_count": 22,
      "outputs": [
        {
          "output_type": "stream",
          "name": "stdout",
          "text": [
            "10\n",
            "20\n",
            "30\n",
            "80\n",
            "10\n",
            "80\n"
          ]
        }
      ]
    },
    {
      "cell_type": "code",
      "source": [
        "# Check whether the triangle is equilateral, isosceles, or scalene triangle\n",
        "a=int(input(\"\"))\n",
        "b=int(input(\"\"))\n",
        "c=int(input(\"\"))\n",
        "if a==b==c:\n",
        "           print(\"equilateral triangle\") \n",
        "elif a!=b and b!=c and c!=a:\n",
        "                            print(\"scalene triangle\")\n",
        "else:\n",
        "     print(\"isosceles triangle\")"
      ],
      "metadata": {
        "colab": {
          "base_uri": "https://localhost:8080/"
        },
        "id": "4eb7Z1Y8V3I7",
        "outputId": "3a34d5a2-d9ec-4ca2-c021-4c3006df2baf"
      },
      "execution_count": 29,
      "outputs": [
        {
          "output_type": "stream",
          "name": "stdout",
          "text": [
            "10\n",
            "10\n",
            "10\n",
            "equilateral triangle\n"
          ]
        }
      ]
    },
    {
      "cell_type": "code",
      "source": [
        "#Check whether entered year is a leap year or not\n",
        "year=int(input(\"\"))\n",
        "if year%4==0 and year%100 != 0:\n",
        "                               print(\"leap year\")\n",
        "elif year%100 != 0:\n",
        "  print(\"not a leap year\")\n",
        "elif year%400 == 0:\n",
        "  print(\"leap year\")\n",
        "else:\n",
        "  print(\"is not leap year\")"
      ],
      "metadata": {
        "colab": {
          "base_uri": "https://localhost:8080/"
        },
        "id": "ShVLWLF2YiFD",
        "outputId": "3aadd44b-583d-41b8-af98-450d2974f959"
      },
      "execution_count": 30,
      "outputs": [
        {
          "output_type": "stream",
          "name": "stdout",
          "text": [
            "2020\n",
            "leap year\n"
          ]
        }
      ]
    },
    {
      "cell_type": "code",
      "source": [
        "#find out the person eligible for voting or not\n",
        "a=int(input(\"\"))\n",
        "if a>17:\n",
        "        print(\"eligible\")\n",
        "else:\n",
        "        print(\"not eligible\")"
      ],
      "metadata": {
        "colab": {
          "base_uri": "https://localhost:8080/"
        },
        "id": "saqTJod4Qyf7",
        "outputId": "965e6a65-842c-4b3e-a8b4-20dcfea9eee8"
      },
      "execution_count": 12,
      "outputs": [
        {
          "output_type": "stream",
          "name": "stdout",
          "text": [
            "17\n",
            "not eligible\n"
          ]
        }
      ]
    }
  ]
}