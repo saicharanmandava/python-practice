{
 "cells": [
  {
   "cell_type": "markdown",
   "id": "44f24d4e",
   "metadata": {},
   "source": [
    "PANDAS"
   ]
  },
  {
   "cell_type": "code",
   "execution_count": 7,
   "id": "54e684ad",
   "metadata": {},
   "outputs": [
    {
     "name": "stdout",
     "output_type": "stream",
     "text": [
      "         names age  gender\n",
      "0   sai charan  18    male\n",
      "1       saketh  17  female\n",
      "2    sai pavan  24  female\n",
      "3  sai kaushik  15    male\n",
      "4       srikar  32    male\n"
     ]
    }
   ],
   "source": [
    "import pandas as charan\n",
    "details={\n",
    "    'names':['sai charan','saketh','sai pavan','sai kaushik','srikar'],\n",
    "    'age':['18','17','24','15','32'],\n",
    "    'gender':['male','female','female','male','male']\n",
    "}\n",
    "res=charan.DataFrame(details)\n",
    "print(res)\n",
    "res.to_excel(r'D:\\details.xlsx') #exporting to excel"
   ]
  },
  {
   "cell_type": "code",
   "execution_count": 6,
   "id": "b7e48568",
   "metadata": {},
   "outputs": [
    {
     "name": "stdout",
     "output_type": "stream",
     "text": [
      "0    18\n",
      "1    73\n",
      "2     3\n",
      "dtype: int64\n"
     ]
    }
   ],
   "source": [
    "import pandas as pd\n",
    "a=[18,73,3]\n",
    "var=pd.Series(a)\n",
    "print(var)"
   ]
  },
  {
   "cell_type": "code",
   "execution_count": 8,
   "id": "e5042cb5",
   "metadata": {},
   "outputs": [
    {
     "name": "stdout",
     "output_type": "stream",
     "text": [
      "1.3.4\n"
     ]
    }
   ],
   "source": [
    "import pandas\n",
    "print(pandas.__version__)"
   ]
  },
  {
   "cell_type": "code",
   "execution_count": 9,
   "id": "b8f7741f",
   "metadata": {},
   "outputs": [
    {
     "name": "stdout",
     "output_type": "stream",
     "text": [
      "c    1\n",
      "h    2\n",
      "a    3\n",
      "r    4\n",
      "a    5\n",
      "n    6\n",
      "dtype: int64\n"
     ]
    }
   ],
   "source": [
    "import pandas as charan\n",
    "a = [1,2,3,4,5,6]\n",
    "sai = charan.Series(a, index = [\"c\", \"h\", \"a\",\"r\",\"a\",\"n\"])\n",
    "print(sai)"
   ]
  },
  {
   "cell_type": "code",
   "execution_count": 10,
   "id": "413fcb42",
   "metadata": {},
   "outputs": [
    {
     "name": "stdout",
     "output_type": "stream",
     "text": [
      "sai charan    107\n",
      "saketh         79\n",
      "laxman        122\n",
      "dtype: object\n"
     ]
    }
   ],
   "source": [
    "import pandas as charan\n",
    "details={'sai charan':'107','saketh':'79','laxman':'122'}\n",
    "sai=charan.Series(details)\n",
    "print(sai)"
   ]
  },
  {
   "cell_type": "code",
   "execution_count": 11,
   "id": "489110ef",
   "metadata": {},
   "outputs": [
    {
     "name": "stdout",
     "output_type": "stream",
     "text": [
      "sai charan    107\n",
      "laxman        122\n",
      "dtype: object\n"
     ]
    }
   ],
   "source": [
    "import pandas as charan\n",
    "details={'sai charan':'107','saketh':'79','laxman':'122'}\n",
    "sai=charan.Series(details,index=['sai charan','laxman'])\n",
    "print(sai)"
   ]
  },
  {
   "cell_type": "code",
   "execution_count": 12,
   "id": "c168d2f6",
   "metadata": {},
   "outputs": [
    {
     "name": "stdout",
     "output_type": "stream",
     "text": [
      "        names age  gender\n",
      "0  sai charan  18    male\n",
      "1      saketh  17  female\n",
      "2   sai pavan  24  female\n"
     ]
    }
   ],
   "source": [
    "import pandas as charan\n",
    "details={\n",
    "    'names':['sai charan','saketh','sai pavan','sai kaushik','srikar'],\n",
    "    'age':['18','17','24','15','32'],\n",
    "    'gender':['male','female','female','male','male']\n",
    "}\n",
    "res=charan.DataFrame(details)\n",
    "print(res.loc[0:2])"
   ]
  },
  {
   "cell_type": "code",
   "execution_count": 21,
   "id": "5b26bf3d",
   "metadata": {},
   "outputs": [
    {
     "name": "stdout",
     "output_type": "stream",
     "text": [
      "names     saketh\n",
      "age           17\n",
      "gender    female\n",
      "Name: 1, dtype: object\n"
     ]
    }
   ],
   "source": [
    "import pandas as charan\n",
    "details={\n",
    "    'names':['sai charan','saketh','sai pavan','sai kaushik','srikar'],\n",
    "    'age':['18','17','24','15','32'],\n",
    "    'gender':['male','female','female','male','male']\n",
    "}\n",
    "res=charan.DataFrame(details)\n",
    "print(res.loc[1])"
   ]
  },
  {
   "cell_type": "code",
   "execution_count": null,
   "id": "2b66d97d",
   "metadata": {},
   "outputs": [],
   "source": []
  }
 ],
 "metadata": {
  "kernelspec": {
   "display_name": "Python 3 (ipykernel)",
   "language": "python",
   "name": "python3"
  },
  "language_info": {
   "codemirror_mode": {
    "name": "ipython",
    "version": 3
   },
   "file_extension": ".py",
   "mimetype": "text/x-python",
   "name": "python",
   "nbconvert_exporter": "python",
   "pygments_lexer": "ipython3",
   "version": "3.9.7"
  }
 },
 "nbformat": 4,
 "nbformat_minor": 5
}
