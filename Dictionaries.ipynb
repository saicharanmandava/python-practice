{
  "nbformat": 4,
  "nbformat_minor": 0,
  "metadata": {
    "colab": {
      "name": "Dictionaries.ipynb",
      "provenance": [],
      "authorship_tag": "ABX9TyM9IFe6ivla7ZnlCawAdk7O",
      "include_colab_link": true
    },
    "kernelspec": {
      "name": "python3",
      "display_name": "Python 3"
    },
    "language_info": {
      "name": "python"
    }
  },
  "cells": [
    {
      "cell_type": "markdown",
      "metadata": {
        "id": "view-in-github",
        "colab_type": "text"
      },
      "source": [
        "<a href=\"https://colab.research.google.com/github/smandava22/python-practice/blob/main/Dictionaries.ipynb\" target=\"_parent\"><img src=\"https://colab.research.google.com/assets/colab-badge.svg\" alt=\"Open In Colab\"/></a>"
      ]
    },
    {
      "cell_type": "code",
      "execution_count": 4,
      "metadata": {
        "colab": {
          "base_uri": "https://localhost:8080/"
        },
        "id": "xXz8TbfGcT8l",
        "outputId": "a3b1a4f5-f92a-4736-ae77-0595fe020706"
      },
      "outputs": [
        {
          "output_type": "stream",
          "name": "stdout",
          "text": [
            "{'sai pavan': 'waste fellow', 'saketh': 'lover boy', 'sai charan': 'good boy'}\n"
          ]
        }
      ],
      "source": [
        "a={\"sai pavan\":\"waste fellow\",\"saketh\":\"lover boy\",\"sai charan\":\"good boy\"}\n",
        "print(a)"
      ]
    },
    {
      "cell_type": "code",
      "source": [
        "a={\"sai pavan\":\"waste fellow\",\"laxman\":\"lover boy\",\"sai charan\":\"good boy\"}\n",
        "print(a[\"sai pavan\"])"
      ],
      "metadata": {
        "colab": {
          "base_uri": "https://localhost:8080/"
        },
        "id": "kSU0gxt-eEjZ",
        "outputId": "8fdcd791-e044-4b18-8547-9573db158f3b"
      },
      "execution_count": 2,
      "outputs": [
        {
          "output_type": "stream",
          "name": "stdout",
          "text": [
            "waste fellow\n"
          ]
        }
      ]
    },
    {
      "cell_type": "code",
      "source": [
        "a={\"sai pavan\":\"waste fellow\",\"laxman\":\"lover boy\",\"sai charan\":\"good boy\",\"sai charan\":\"good\"}\n",
        "print(a)#Duplicate values will overwrite existing values"
      ],
      "metadata": {
        "colab": {
          "base_uri": "https://localhost:8080/"
        },
        "id": "hX3O61DyeOrK",
        "outputId": "2bb33f2a-5606-4c00-b85d-1ff8dfa56b77"
      },
      "execution_count": 5,
      "outputs": [
        {
          "output_type": "stream",
          "name": "stdout",
          "text": [
            "{'sai pavan': 'waste fellow', 'laxman': 'lover boy', 'sai charan': 'good'}\n"
          ]
        }
      ]
    },
    {
      "cell_type": "code",
      "source": [
        "a={\"sai pavan\":\"waste fellow\",\"laxman\":\"lover boy\",\"sai charan\":\"good boy\",\"sai charan\":\"good\"}\n",
        "print(len(a))#Duplicate values will overwrite existing values"
      ],
      "metadata": {
        "colab": {
          "base_uri": "https://localhost:8080/"
        },
        "id": "_-Szu0eVfStg",
        "outputId": "b48b86a3-f302-459e-e0b2-e8c05373618f"
      },
      "execution_count": 7,
      "outputs": [
        {
          "output_type": "stream",
          "name": "stdout",
          "text": [
            "3\n"
          ]
        }
      ]
    },
    {
      "cell_type": "code",
      "source": [
        "a={\"sai pavan\":\"waste fellow\",\"laxman\":\"lover boy\",\"sai charan\":\"good boy\"}\n",
        "print(len(a))"
      ],
      "metadata": {
        "colab": {
          "base_uri": "https://localhost:8080/"
        },
        "id": "318rvfXDfFma",
        "outputId": "c8103bc0-2d41-413d-cae3-420f02c0cb8f"
      },
      "execution_count": 6,
      "outputs": [
        {
          "output_type": "stream",
          "name": "stdout",
          "text": [
            "3\n"
          ]
        }
      ]
    },
    {
      "cell_type": "code",
      "source": [
        "a={\"sai pavan\":\"waste fellow\",\"laxman\":\"lover boy\",\"sai charan\":[\"good\",\"excelent\"]}\n",
        "print(a)"
      ],
      "metadata": {
        "colab": {
          "base_uri": "https://localhost:8080/"
        },
        "id": "wJPDJT4YfbTZ",
        "outputId": "4901a373-9474-40f9-f3d4-6e38e0a0d289"
      },
      "execution_count": 8,
      "outputs": [
        {
          "output_type": "stream",
          "name": "stdout",
          "text": [
            "{'sai pavan': 'waste fellow', 'laxman': 'lover boy', 'sai charan': ['good', 'excelent']}\n"
          ]
        }
      ]
    },
    {
      "cell_type": "code",
      "source": [
        "a={\"sai pavan\":\"waste fellow\",\"laxman\":\"lover boy\",\"sai charan\":[\"good\",\"excelent\"]}\n",
        "print(type(a))"
      ],
      "metadata": {
        "colab": {
          "base_uri": "https://localhost:8080/"
        },
        "id": "yB5kfgOAgQKa",
        "outputId": "1cbd96c5-f035-4328-f22a-4c66e21a84f4"
      },
      "execution_count": 9,
      "outputs": [
        {
          "output_type": "stream",
          "name": "stdout",
          "text": [
            "<class 'dict'>\n"
          ]
        }
      ]
    },
    {
      "cell_type": "code",
      "source": [
        "a={\"sai pavan\":\"waste fellow\",\"laxman\":\"lover boy\",\"sai charan\":\"good boy\"}\n",
        "x=a[\"laxman\"]\n",
        "print(x)"
      ],
      "metadata": {
        "colab": {
          "base_uri": "https://localhost:8080/"
        },
        "id": "mLqT1wqSge-Q",
        "outputId": "2ec1caa2-17b3-4310-877e-3a58cff3d8cd"
      },
      "execution_count": 11,
      "outputs": [
        {
          "output_type": "stream",
          "name": "stdout",
          "text": [
            "lover boy\n"
          ]
        }
      ]
    },
    {
      "cell_type": "code",
      "source": [
        "placement={\"name\":\"saicharan\",\"branch\":\"cse(aiml)\",\"roll number\":\"vu21csen0300107\",\"cgpa\":\"9.8\",\"age\":\"18\",\"mobile number\":\"8465983082\"}\n",
        "print(placement[\"cgpa\"])"
      ],
      "metadata": {
        "colab": {
          "base_uri": "https://localhost:8080/"
        },
        "id": "cjRNPhBSg2CZ",
        "outputId": "f3b1c3d8-4861-466c-8095-8316aca24a33"
      },
      "execution_count": 12,
      "outputs": [
        {
          "output_type": "stream",
          "name": "stdout",
          "text": [
            "9.8\n"
          ]
        }
      ]
    },
    {
      "cell_type": "code",
      "source": [
        "placement={\n",
        "    \"name\":input(),\n",
        "    \"age\":input(),\n",
        "    \"branch\":input(),\n",
        "    \"roll number\":input(),\n",
        "    \"cgpa\":input(),\n",
        "    \"mobile number\":input()\n",
        "}\n",
        "print(placement[\"cgpa\"])"
      ],
      "metadata": {
        "colab": {
          "base_uri": "https://localhost:8080/"
        },
        "id": "4mScjbcjhPTv",
        "outputId": "53214765-bf04-42bd-ca40-9194a993d611"
      },
      "execution_count": 18,
      "outputs": [
        {
          "output_type": "stream",
          "name": "stdout",
          "text": [
            "sai charan\n",
            "18\n",
            "cse\n",
            "107\n",
            "9.8\n",
            "84659830872\n",
            "9.8\n"
          ]
        }
      ]
    },
    {
      "cell_type": "code",
      "source": [
        "placement={\n",
        "    \"name\":input(),\n",
        "    \"age\":input(),\n",
        "    \"branch\":input(),\n",
        "    \"roll number\":input(),\n",
        "    \"cgpa\":input(),\n",
        "    \"mobile number\":input()\n",
        "}\n",
        "x=placement.keys()\n",
        "print(x) #before the change\n",
        "placement[\"attendance\"]=input()\n",
        "print(x)"
      ],
      "metadata": {
        "colab": {
          "base_uri": "https://localhost:8080/"
        },
        "id": "WrBPhZFXjbHH",
        "outputId": "aaaa0b4c-7731-4059-a788-cb8deca8b4d8"
      },
      "execution_count": 20,
      "outputs": [
        {
          "output_type": "stream",
          "name": "stdout",
          "text": [
            "jfjfc\n",
            "125\n",
            "cfg\n",
            "kjhc\n",
            "3.0\n",
            "6534685\n",
            "dict_keys(['name', 'age', 'branch', 'roll number', 'cgpa', 'mobile number'])\n",
            "98\n",
            "dict_keys(['name', 'age', 'branch', 'roll number', 'cgpa', 'mobile number', 'attendance'])\n"
          ]
        }
      ]
    },
    {
      "cell_type": "code",
      "source": [
        "placement={\n",
        "    \"name\":input(),\n",
        "    \"age\":input(),\n",
        "    \"branch\":input(),\n",
        "    \"roll number\":input(),\n",
        "    \"cgpa\":input(),\n",
        "    \"mobile number\":input()\n",
        "}\n",
        "x=placement.valuescf()\n",
        "print(x) #before the change\n",
        "placement[\"attendance\"]=input()\n",
        "print(x)"
      ],
      "metadata": {
        "colab": {
          "base_uri": "https://localhost:8080/"
        },
        "id": "xlED2b4SlCa2",
        "outputId": "f5497f3e-05b4-43c5-af39-7bdb4c080d82"
      },
      "execution_count": 22,
      "outputs": [
        {
          "output_type": "stream",
          "name": "stdout",
          "text": [
            "ytf\n",
            "g\n",
            "vgh\n",
            "vcg\n",
            "gcf\n",
            "gc\n",
            "dict_values(['ytf', 'g', 'vgh', 'vcg', 'gcf', 'gc'])\n",
            "ghcf\n",
            "dict_values(['ytf', 'g', 'vgh', 'vcg', 'gcf', 'gc', 'ghcf'])\n"
          ]
        }
      ]
    },
    {
      "cell_type": "code",
      "source": [
        ""
      ],
      "metadata": {
        "id": "Xakl_DS4lmPe"
      },
      "execution_count": null,
      "outputs": []
    },
    {
      "cell_type": "code",
      "source": [
        ""
      ],
      "metadata": {
        "id": "fmzdiXHBk3c2"
      },
      "execution_count": null,
      "outputs": []
    }
  ]
}