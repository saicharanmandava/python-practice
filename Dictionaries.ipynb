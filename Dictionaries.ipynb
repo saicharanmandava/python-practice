{
  "nbformat": 4,
  "nbformat_minor": 0,
  "metadata": {
    "colab": {
      "name": "Dictionaries.ipynb",
      "provenance": [],
      "authorship_tag": "ABX9TyN7YeyzgGMyCVTlNKN1DFJ0",
      "include_colab_link": true
    },
    "kernelspec": {
      "name": "python3",
      "display_name": "Python 3"
    },
    "language_info": {
      "name": "python"
    }
  },
  "cells": [
    {
      "cell_type": "markdown",
      "metadata": {
        "id": "view-in-github",
        "colab_type": "text"
      },
      "source": [
        "<a href=\"https://colab.research.google.com/github/smandava22/python-practice/blob/main/Dictionaries.ipynb\" target=\"_parent\"><img src=\"https://colab.research.google.com/assets/colab-badge.svg\" alt=\"Open In Colab\"/></a>"
      ]
    },
    {
      "cell_type": "code",
      "execution_count": null,
      "metadata": {
        "colab": {
          "base_uri": "https://localhost:8080/"
        },
        "id": "xXz8TbfGcT8l",
        "outputId": "a3b1a4f5-f92a-4736-ae77-0595fe020706"
      },
      "outputs": [
        {
          "output_type": "stream",
          "name": "stdout",
          "text": [
            "{'sai pavan': 'waste fellow', 'saketh': 'lover boy', 'sai charan': 'good boy'}\n"
          ]
        }
      ],
      "source": [
        "a={\"sai pavan\":\"waste fellow\",\"saketh\":\"lover boy\",\"sai charan\":\"good boy\"}\n",
        "print(a)"
      ]
    },
    {
      "cell_type": "code",
      "source": [
        "a={\"sai pavan\":\"waste fellow\",\"laxman\":\"lover boy\",\"sai charan\":\"good boy\"}\n",
        "print(a[\"sai pavan\"])"
      ],
      "metadata": {
        "colab": {
          "base_uri": "https://localhost:8080/"
        },
        "id": "kSU0gxt-eEjZ",
        "outputId": "8fdcd791-e044-4b18-8547-9573db158f3b"
      },
      "execution_count": null,
      "outputs": [
        {
          "output_type": "stream",
          "name": "stdout",
          "text": [
            "waste fellow\n"
          ]
        }
      ]
    },
    {
      "cell_type": "code",
      "source": [
        "a={\"sai pavan\":\"waste fellow\",\"laxman\":\"lover boy\",\"sai charan\":\"good boy\",\"sai charan\":\"good\"}\n",
        "print(a)#Duplicate values will overwrite existing values"
      ],
      "metadata": {
        "colab": {
          "base_uri": "https://localhost:8080/"
        },
        "id": "hX3O61DyeOrK",
        "outputId": "2bb33f2a-5606-4c00-b85d-1ff8dfa56b77"
      },
      "execution_count": null,
      "outputs": [
        {
          "output_type": "stream",
          "name": "stdout",
          "text": [
            "{'sai pavan': 'waste fellow', 'laxman': 'lover boy', 'sai charan': 'good'}\n"
          ]
        }
      ]
    },
    {
      "cell_type": "code",
      "source": [
        "a={\"sai pavan\":\"waste fellow\",\"laxman\":\"lover boy\",\"sai charan\":\"good boy\",\"sai charan\":\"good\"}\n",
        "print(len(a))#Duplicate values will overwrite existing values"
      ],
      "metadata": {
        "colab": {
          "base_uri": "https://localhost:8080/"
        },
        "id": "_-Szu0eVfStg",
        "outputId": "b48b86a3-f302-459e-e0b2-e8c05373618f"
      },
      "execution_count": null,
      "outputs": [
        {
          "output_type": "stream",
          "name": "stdout",
          "text": [
            "3\n"
          ]
        }
      ]
    },
    {
      "cell_type": "code",
      "source": [
        "a={\"sai pavan\":\"waste fellow\",\"laxman\":\"lover boy\",\"sai charan\":\"good boy\"}\n",
        "print(len(a))"
      ],
      "metadata": {
        "colab": {
          "base_uri": "https://localhost:8080/"
        },
        "id": "318rvfXDfFma",
        "outputId": "c8103bc0-2d41-413d-cae3-420f02c0cb8f"
      },
      "execution_count": null,
      "outputs": [
        {
          "output_type": "stream",
          "name": "stdout",
          "text": [
            "3\n"
          ]
        }
      ]
    },
    {
      "cell_type": "code",
      "source": [
        "a={\"sai pavan\":\"waste fellow\",\"laxman\":\"lover boy\",\"sai charan\":[\"good\",\"excelent\"]}\n",
        "print(a)"
      ],
      "metadata": {
        "colab": {
          "base_uri": "https://localhost:8080/"
        },
        "id": "wJPDJT4YfbTZ",
        "outputId": "4901a373-9474-40f9-f3d4-6e38e0a0d289"
      },
      "execution_count": null,
      "outputs": [
        {
          "output_type": "stream",
          "name": "stdout",
          "text": [
            "{'sai pavan': 'waste fellow', 'laxman': 'lover boy', 'sai charan': ['good', 'excelent']}\n"
          ]
        }
      ]
    },
    {
      "cell_type": "code",
      "source": [
        "a={\"sai pavan\":\"waste fellow\",\"laxman\":\"lover boy\",\"sai charan\":[\"good\",\"excelent\"]}\n",
        "print(type(a))"
      ],
      "metadata": {
        "colab": {
          "base_uri": "https://localhost:8080/"
        },
        "id": "yB5kfgOAgQKa",
        "outputId": "1cbd96c5-f035-4328-f22a-4c66e21a84f4"
      },
      "execution_count": null,
      "outputs": [
        {
          "output_type": "stream",
          "name": "stdout",
          "text": [
            "<class 'dict'>\n"
          ]
        }
      ]
    },
    {
      "cell_type": "code",
      "source": [
        "a={\"sai pavan\":\"waste fellow\",\"laxman\":\"lover boy\",\"sai charan\":\"good boy\"}\n",
        "x=a[\"laxman\"]\n",
        "print(x)"
      ],
      "metadata": {
        "colab": {
          "base_uri": "https://localhost:8080/"
        },
        "id": "mLqT1wqSge-Q",
        "outputId": "2ec1caa2-17b3-4310-877e-3a58cff3d8cd"
      },
      "execution_count": null,
      "outputs": [
        {
          "output_type": "stream",
          "name": "stdout",
          "text": [
            "lover boy\n"
          ]
        }
      ]
    },
    {
      "cell_type": "code",
      "source": [
        "placement={\"name\":\"saicharan\",\"branch\":\"cse(aiml)\",\"roll number\":\"vu21csen0300107\",\"cgpa\":\"9.8\",\"age\":\"18\",\"mobile number\":\"8465983082\"}\n",
        "print(placement[\"cgpa\"])"
      ],
      "metadata": {
        "colab": {
          "base_uri": "https://localhost:8080/"
        },
        "id": "cjRNPhBSg2CZ",
        "outputId": "f3b1c3d8-4861-466c-8095-8316aca24a33"
      },
      "execution_count": null,
      "outputs": [
        {
          "output_type": "stream",
          "name": "stdout",
          "text": [
            "9.8\n"
          ]
        }
      ]
    },
    {
      "cell_type": "code",
      "source": [
        "placement={\n",
        "    \"name\":input(),\n",
        "    \"age\":input(),\n",
        "    \"branch\":input(),\n",
        "    \"roll number\":input(),\n",
        "    \"cgpa\":input(),\n",
        "    \"mobile number\":input()\n",
        "}\n",
        "print(placement[\"cgpa\"])"
      ],
      "metadata": {
        "colab": {
          "base_uri": "https://localhost:8080/"
        },
        "id": "4mScjbcjhPTv",
        "outputId": "53214765-bf04-42bd-ca40-9194a993d611"
      },
      "execution_count": null,
      "outputs": [
        {
          "output_type": "stream",
          "name": "stdout",
          "text": [
            "sai charan\n",
            "18\n",
            "cse\n",
            "107\n",
            "9.8\n",
            "84659830872\n",
            "9.8\n"
          ]
        }
      ]
    },
    {
      "cell_type": "code",
      "source": [
        "placement={\n",
        "    \"name\":input(),\n",
        "    \"age\":input(),\n",
        "    \"branch\":input(),\n",
        "    \"roll number\":input(),\n",
        "    \"cgpa\":input(),\n",
        "    \"mobile number\":input()\n",
        "}\n",
        "x=placement.keys()\n",
        "print(x) #before the change\n",
        "placement[\"attendance\"]=input()\n",
        "print(x)"
      ],
      "metadata": {
        "colab": {
          "base_uri": "https://localhost:8080/"
        },
        "id": "WrBPhZFXjbHH",
        "outputId": "aaaa0b4c-7731-4059-a788-cb8deca8b4d8"
      },
      "execution_count": null,
      "outputs": [
        {
          "output_type": "stream",
          "name": "stdout",
          "text": [
            "jfjfc\n",
            "125\n",
            "cfg\n",
            "kjhc\n",
            "3.0\n",
            "6534685\n",
            "dict_keys(['name', 'age', 'branch', 'roll number', 'cgpa', 'mobile number'])\n",
            "98\n",
            "dict_keys(['name', 'age', 'branch', 'roll number', 'cgpa', 'mobile number', 'attendance'])\n"
          ]
        }
      ]
    },
    {
      "cell_type": "code",
      "source": [
        "gplacement={\n",
        "    \"name\":input(),\n",
        "    \"age\":input(),\n",
        "    \"branch\":input(),\n",
        "    \"roll number\":input(),\n",
        "    \"cgpa\":input(),\n",
        "    \"mobile number\":input()\n",
        "}\n",
        "x=placement.values()\n",
        "print(x) #before the change\n",
        "placement[\"attendance\"]=input()\n",
        "print(x)"
      ],
      "metadata": {
        "colab": {
          "base_uri": "https://localhost:8080/"
        },
        "id": "xlED2b4SlCa2",
        "outputId": "d7a3aae8-3d80-41c5-ce61-58b835d7d556"
      },
      "execution_count": 2,
      "outputs": [
        {
          "output_type": "stream",
          "name": "stdout",
          "text": [
            "jh\n",
            "vj\n",
            "hgv\n",
            "hbj\n",
            "hgv\n",
            "ghf\n",
            "dict_values(['jh', 'vj', 'hgv', 'hbj', 'hgv', 'ghf'])\n",
            "hjg\n",
            "dict_values(['jh', 'vj', 'hgv', 'hbj', 'hgv', 'ghf', 'hjg'])\n"
          ]
        }
      ]
    },
    {
      "cell_type": "code",
      "source": [
        "placement={\n",
        "    \"name\":input(),\n",
        "    \"age\":input(),\n",
        "    \"branch\":input(),\n",
        "    \"roll number\":input(),\n",
        "    \"cgpa\":input(),\n",
        "    \"mobile number\":input()\n",
        "}\n",
        "print(placement)\n",
        "placement.update({\"cgpa\":input()})\n",
        "print(placement) #before the change"
      ],
      "metadata": {
        "colab": {
          "base_uri": "https://localhost:8080/"
        },
        "id": "qkhKx8aHB1qA",
        "outputId": "4a30a68a-9991-4bbc-e80f-8b0e9e280bea"
      },
      "execution_count": 7,
      "outputs": [
        {
          "output_type": "stream",
          "name": "stdout",
          "text": [
            "fd\n",
            "jh\n",
            "sdf\n",
            "gh\n",
            "gb\n",
            "hg\n",
            "{'name': 'fd', 'age': 'jh', 'branch': 'sdf', 'roll number': 'gh', 'cgpa': 'gb', 'mobile number': 'hg'}\n",
            "saI\n",
            "{'name': 'fd', 'age': 'jh', 'branch': 'sdf', 'roll number': 'gh', 'cgpa': 'saI', 'mobile number': 'hg'}\n"
          ]
        }
      ]
    },
    {
      "cell_type": "code",
      "source": [
        "placement={\n",
        "    \"name\":input(),\n",
        "    \"age\":input(),\n",
        "    \"branch\":input(),\n",
        "    \"roll number\":input(),\n",
        "    \"cgpa\":input(),\n",
        "    \"mobile number\":input()\n",
        "}\n",
        "placement[\"year\"]=input()\n",
        "print(placement)"
      ],
      "metadata": {
        "id": "Xakl_DS4lmPe",
        "colab": {
          "base_uri": "https://localhost:8080/"
        },
        "outputId": "c157c061-a5e3-49a4-9ffe-fc610e24d73f"
      },
      "execution_count": 8,
      "outputs": [
        {
          "output_type": "stream",
          "name": "stdout",
          "text": [
            "sai\n",
            "18\n",
            "cse\n",
            "107\n",
            "9.55\n",
            "41564658\n",
            "3\n",
            "{'name': 'sai', 'age': '18', 'branch': 'cse', 'roll number': '107', 'cgpa': '9.55', 'mobile number': '41564658', 'year': '3'}\n"
          ]
        }
      ]
    },
    {
      "cell_type": "code",
      "source": [
        "placement={\n",
        "    \"name\":input(),\n",
        "    \"age\":input(),\n",
        "    \"branch\":input(),\n",
        "    \"roll number\":input(),\n",
        "    \"cgpa\":input(),\n",
        "    \"mobile number\":input()\n",
        "}\n",
        "placement.pop(\"cgpa\")#removes the item with the specified key name\n",
        "print(placement)\n",
        "placement.popitem()#removes the last inserted item\n",
        "print(placement)"
      ],
      "metadata": {
        "id": "fmzdiXHBk3c2",
        "colab": {
          "base_uri": "https://localhost:8080/"
        },
        "outputId": "4dc06a46-395a-495e-9c4a-a63f8415ad94"
      },
      "execution_count": 9,
      "outputs": [
        {
          "output_type": "stream",
          "name": "stdout",
          "text": [
            "sda\n",
            "eratg\n",
            "ewtag\n",
            "aerg\n",
            "eardgh\n",
            "wet\n",
            "{'name': 'sda', 'age': 'eratg', 'branch': 'ewtag', 'roll number': 'aerg', 'mobile number': 'wet'}\n",
            "{'name': 'sda', 'age': 'eratg', 'branch': 'ewtag', 'roll number': 'aerg'}\n"
          ]
        }
      ]
    },
    {
      "cell_type": "code",
      "source": [
        "placement={\n",
        "    \"name\":input(),\n",
        "    \"age\":input(),\n",
        "    \"branch\":input(),\n",
        "    \"roll number\":input(),\n",
        "    \"cgpa\":input(),\n",
        "    \"mobile number\":input()\n",
        "}\n",
        "del placement[\"cgpa\"]\n",
        "print(placement)"
      ],
      "metadata": {
        "colab": {
          "base_uri": "https://localhost:8080/"
        },
        "id": "b5jPnb3MFnzp",
        "outputId": "4b127963-c1a7-445a-e6c7-9c3852bd909d"
      },
      "execution_count": 10,
      "outputs": [
        {
          "output_type": "stream",
          "name": "stdout",
          "text": [
            "hfgcx\n",
            "ghcf\n",
            "vjgh\n",
            "fghc\n",
            "ghfc\n",
            "xfgc\n",
            "{'name': 'hfgcx', 'age': 'ghcf', 'branch': 'vjgh', 'roll number': 'fghc', 'mobile number': 'xfgc'}\n"
          ]
        }
      ]
    },
    {
      "cell_type": "code",
      "source": [
        "placement={\n",
        "    \"name\":input(),\n",
        "    \"age\":input(),\n",
        "    \"branch\":input(),\n",
        "    \"roll number\":input(),\n",
        "    \"cgpa\":input(),\n",
        "    \"mobile number\":input()\n",
        "}\n",
        "placement.clear()\n",
        "print(placement)"
      ],
      "metadata": {
        "colab": {
          "base_uri": "https://localhost:8080/"
        },
        "id": "wI0r6f1ZGXwK",
        "outputId": "e41d96cb-e27e-4701-a157-fbeac7eb83c0"
      },
      "execution_count": 11,
      "outputs": [
        {
          "output_type": "stream",
          "name": "stdout",
          "text": [
            "ngcd\n",
            "hfd\n",
            "hfdg\n",
            "hd\n",
            "hgtd\n",
            " bvn n\n",
            "{}\n"
          ]
        }
      ]
    },
    {
      "cell_type": "code",
      "source": [
        "placement={\n",
        "    \"name\":input(),\n",
        "    \"age\":input(),\n",
        "    \"branch\":input(),\n",
        "    \"roll number\":input(),\n",
        "    \"cgpa\":input(),\n",
        "    \"mobile number\":input()\n",
        "}\n",
        "for i in placement:\n",
        "  print(placement[i])"
      ],
      "metadata": {
        "colab": {
          "base_uri": "https://localhost:8080/"
        },
        "id": "qG9VMShHGsD5",
        "outputId": "c5bce7a0-ddc8-4fdc-e584-1ba5b4ec48b5"
      },
      "execution_count": 12,
      "outputs": [
        {
          "output_type": "stream",
          "name": "stdout",
          "text": [
            "sai\n",
            "56\n",
            "cse\n",
            "89\n",
            "10\n",
            "5464654\n",
            "sai\n",
            "56\n",
            "cse\n",
            "89\n",
            "10\n",
            "5464654\n"
          ]
        }
      ]
    },
    {
      "cell_type": "code",
      "source": [
        "placement={\n",
        "    \"name\":input(),\n",
        "    \"age\":input(),\n",
        "    \"branch\":input(),\n",
        "    \"roll number\":input(),\n",
        "    \"cgpa\":input(),\n",
        "    \"mobile number\":input()\n",
        "}\n",
        "for i,j in placement.items():\n",
        "  print(i,j)"
      ],
      "metadata": {
        "colab": {
          "base_uri": "https://localhost:8080/"
        },
        "id": "5mo-_g0-HRbY",
        "outputId": "fb55ffd2-1ff5-49b9-a2c2-535694024fb7"
      },
      "execution_count": 13,
      "outputs": [
        {
          "output_type": "stream",
          "name": "stdout",
          "text": [
            "sai\n",
            "xddf\n",
            "ghfc\n",
            "hcg\n",
            "hv\n",
            "fgcx\n",
            "name sai\n",
            "age xddf\n",
            "branch ghfc\n",
            "roll number hcg\n",
            "cgpa hv\n",
            "mobile number fgcx\n"
          ]
        }
      ]
    },
    {
      "cell_type": "code",
      "source": [
        "placement={\n",
        "    \"name\":input(),\n",
        "    \"age\":input(),\n",
        "    \"branch\":input(),\n",
        "    \"roll number\":input(),\n",
        "    \"cgpa\":input(),\n",
        "    \"mobile number\":input()\n",
        "}\n",
        "for i in placement.keys():\n",
        "  print(i)"
      ],
      "metadata": {
        "id": "Woz2kgoyHpJR"
      },
      "execution_count": null,
      "outputs": []
    },
    {
      "cell_type": "code",
      "source": [
        "placement={\n",
        "    \"name\":input(),\n",
        "    \"age\":input(),\n",
        "    \"branch\":input(),\n",
        "    \"roll number\":input(),\n",
        "    \"cgpa\":input(),\n",
        "    \"mobile number\":input()\n",
        "}\n",
        "for i in placement.values():\n",
        "  print(i)"
      ],
      "metadata": {
        "colab": {
          "base_uri": "https://localhost:8080/"
        },
        "id": "wgnfONXVHtu3",
        "outputId": "f03f70c1-171e-4efc-d157-9593b2dd3059"
      },
      "execution_count": 16,
      "outputs": [
        {
          "output_type": "stream",
          "name": "stdout",
          "text": [
            "sai\n",
            "18\n",
            "cse\n",
            "107\n",
            "10\n",
            "8465983082\n",
            "sai\n",
            "18\n",
            "cse\n",
            "107\n",
            "10\n",
            "8465983082\n"
          ]
        }
      ]
    },
    {
      "cell_type": "code",
      "source": [
        "placement={\n",
        "    \"name\":input(),\n",
        "    \"age\":input(),\n",
        "    \"branch\":input(),\n",
        "    \"roll number\":input(),\n",
        "    \"cgpa\":input(),\n",
        "    \"mobile number\":input()\n",
        "}\n",
        "x = placement.copy()\n",
        "print(x)"
      ],
      "metadata": {
        "id": "B1UiO1OxIKuw"
      },
      "execution_count": null,
      "outputs": []
    },
    {
      "cell_type": "code",
      "source": [
        "placement={\n",
        "    \"name\":input(),\n",
        "    \"age\":input(),\n",
        "    \"branch\":input(),\n",
        "    \"roll number\":input(),\n",
        "    \"cgpa\":input(),\n",
        "    \"mobile number\":input()\n",
        "}\n",
        "x = dict(placement)\n",
        "print(x)"
      ],
      "metadata": {
        "id": "XKOsQzMpIWug"
      },
      "execution_count": null,
      "outputs": []
    },
    {
      "cell_type": "code",
      "source": [
        "#nested dictionaries\n",
        "student1={\n",
        "    \"name\":input(),\n",
        "    \"age\":input(),\n",
        "    \"branch\":input(),\n",
        "    \"roll number\":input(),\n",
        "    \"cgpa\":input(),\n",
        "    \"mobile number\":input()\n",
        "}\n",
        "student2={\n",
        "    \"name\":input(),\n",
        "    \"age\":input(),\n",
        "    \"branch\":input(),\n",
        "    \"roll number\":input(),\n",
        "    \"cgpa\":input(),\n",
        "    \"mobile number\":input()\n",
        "}\n",
        "student3={\n",
        "    \"name\":input(),\n",
        "    \"age\":input(),\n",
        "    \"branch\":input(),\n",
        "    \"roll number\":input(),\n",
        "    \"cgpa\":input(),\n",
        "    \"mobile number\":input()\n",
        "}\n",
        "placement={\n",
        "    \"student1\":student1,\n",
        "    \"student2\":student2,\n",
        "    \"student3\":student3,\n",
        "}\n"
      ],
      "metadata": {
        "id": "8wMrnNTWIz9_"
      },
      "execution_count": null,
      "outputs": []
    }
  ]
}