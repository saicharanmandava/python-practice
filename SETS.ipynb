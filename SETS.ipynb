{
  "nbformat": 4,
  "nbformat_minor": 0,
  "metadata": {
    "colab": {
      "name": "SETS.ipynb",
      "provenance": [],
      "authorship_tag": "ABX9TyNqiG4/+O+cAn5tkDyET4JS",
      "include_colab_link": true
    },
    "kernelspec": {
      "name": "python3",
      "display_name": "Python 3"
    },
    "language_info": {
      "name": "python"
    }
  },
  "cells": [
    {
      "cell_type": "markdown",
      "metadata": {
        "id": "view-in-github",
        "colab_type": "text"
      },
      "source": [
        "<a href=\"https://colab.research.google.com/github/smandava22/python-practice/blob/main/SETS.ipynb\" target=\"_parent\"><img src=\"https://colab.research.google.com/assets/colab-badge.svg\" alt=\"Open In Colab\"/></a>"
      ]
    },
    {
      "cell_type": "code",
      "execution_count": 1,
      "metadata": {
        "colab": {
          "base_uri": "https://localhost:8080/"
        },
        "id": "0AqI1P-tTdww",
        "outputId": "e3c9945b-2aac-4cd1-a78b-e6ffca52372a"
      },
      "outputs": [
        {
          "output_type": "stream",
          "name": "stdout",
          "text": [
            "{'sai charan', 'sai pavan', 'saketh', 'laxman'}\n"
          ]
        }
      ],
      "source": [
        "a={\"sai charan\",\"sai pavan\",\"saketh\",\"laxman\"}\n",
        "print(a)"
      ]
    },
    {
      "cell_type": "code",
      "source": [
        "a={\"sai charan\",\"sai pavan\",\"saketh\",\"laxman\",\"sai charan\"}\n",
        "print(a)#Duplicate values will be ignored"
      ],
      "metadata": {
        "colab": {
          "base_uri": "https://localhost:8080/"
        },
        "id": "b5Gf7KeFT8c1",
        "outputId": "e1949e7b-8dca-4d1b-bae9-b22fd5742962"
      },
      "execution_count": 2,
      "outputs": [
        {
          "output_type": "stream",
          "name": "stdout",
          "text": [
            "{'sai charan', 'sai pavan', 'saketh', 'laxman'}\n"
          ]
        }
      ]
    },
    {
      "cell_type": "code",
      "source": [
        "a={\"sai charan\",\"sai pavan\",\"saketh\",\"laxman\"}\n",
        "print(type(a))\n",
        "b={5,3,9,1,0}\n",
        "print(type(b))\n",
        "c={True,False,False}\n",
        "print(type(c))\n",
        "print(a)\n",
        "print(b)\n",
        "print(c)"
      ],
      "metadata": {
        "colab": {
          "base_uri": "https://localhost:8080/"
        },
        "id": "5JR1QDjhUIL1",
        "outputId": "1ba49cd7-7b41-4c37-e28c-2a85459dcdca"
      },
      "execution_count": 8,
      "outputs": [
        {
          "output_type": "stream",
          "name": "stdout",
          "text": [
            "<class 'set'>\n",
            "<class 'set'>\n",
            "<class 'set'>\n",
            "{'sai charan', 'sai pavan', 'saketh', 'laxman'}\n",
            "{0, 1, 3, 5, 9}\n",
            "{False, True}\n"
          ]
        }
      ]
    },
    {
      "cell_type": "code",
      "source": [
        "a={11,\"saicharan\",True,\"saketh\",6}\n",
        "print(a)"
      ],
      "metadata": {
        "colab": {
          "base_uri": "https://localhost:8080/"
        },
        "id": "fyEAK3pfUhtp",
        "outputId": "afd98808-e2bf-4165-f673-fb93ba9f8b23"
      },
      "execution_count": 7,
      "outputs": [
        {
          "output_type": "stream",
          "name": "stdout",
          "text": [
            "{True, 'saicharan', 6, 11, 'saketh'}\n"
          ]
        }
      ]
    },
    {
      "cell_type": "code",
      "source": [
        "a=((\"sai charan\",\"sai pavan\",\"saketh\",\"laxman\"))# note the double round-brackets\n",
        "print(a)"
      ],
      "metadata": {
        "colab": {
          "base_uri": "https://localhost:8080/"
        },
        "id": "2QIaM8yMU2-Q",
        "outputId": "b4122319-5db6-41b7-d8c8-cb87c9c7f21b"
      },
      "execution_count": 9,
      "outputs": [
        {
          "output_type": "stream",
          "name": "stdout",
          "text": [
            "('sai charan', 'sai pavan', 'saketh', 'laxman', 'sai charan')\n"
          ]
        }
      ]
    },
    {
      "cell_type": "code",
      "source": [
        "a={\"sai charan\",\"sai pavan\",\"saketh\",\"laxman\"}\n",
        "for i in a:\n",
        "  print(i)"
      ],
      "metadata": {
        "colab": {
          "base_uri": "https://localhost:8080/"
        },
        "id": "isc3Eq6DVfE1",
        "outputId": "7a2ce998-26ed-4591-a32b-94fb7ae901cd"
      },
      "execution_count": 11,
      "outputs": [
        {
          "output_type": "stream",
          "name": "stdout",
          "text": [
            "sai charan\n",
            "sai pavan\n",
            "saketh\n",
            "laxman\n"
          ]
        }
      ]
    },
    {
      "cell_type": "code",
      "source": [
        "a={\"sai charan\",\"sai pavan\",\"saketh\",\"laxman\"}\n",
        "print(\"sai charan\" in a)"
      ],
      "metadata": {
        "colab": {
          "base_uri": "https://localhost:8080/"
        },
        "id": "SYTw1jhYV7zN",
        "outputId": "a586fb3c-1c18-4dbd-c527-8df1be4f2e50"
      },
      "execution_count": 12,
      "outputs": [
        {
          "output_type": "stream",
          "name": "stdout",
          "text": [
            "True\n"
          ]
        }
      ]
    },
    {
      "cell_type": "code",
      "source": [
        "a={\"sai charan\",\"sai pavan\",\"saketh\",\"laxman\"\n",
        "a.add(\"kaushik\")#adding element to set\n",
        "print(a)"
      ],
      "metadata": {
        "colab": {
          "base_uri": "https://localhost:8080/"
        },
        "id": "LWyAczweWLOy",
        "outputId": "357e3bab-47dd-4562-a0f5-a7362fe66c29"
      },
      "execution_count": 13,
      "outputs": [
        {
          "output_type": "stream",
          "name": "stdout",
          "text": [
            "{'sai charan', 'sai pavan', 'laxman', 'kaushik', 'saketh'}\n"
          ]
        }
      ]
    },
    {
      "cell_type": "code",
      "source": [
        "a={\"sai charan\",\"sai pavan\",\"saketh\",\"laxman\"}\n",
        "b={\"kushwanth\",\"mahidhar\",\"srikar\"}\n",
        "a.update(b)#updating a set to a set\n",
        "print(a)"
      ],
      "metadata": {
        "colab": {
          "base_uri": "https://localhost:8080/"
        },
        "id": "GPKEHbZkWTdU",
        "outputId": "82927c08-6515-412a-c975-b6f19b4036b1"
      },
      "execution_count": 14,
      "outputs": [
        {
          "output_type": "stream",
          "name": "stdout",
          "text": [
            "{'sai charan', 'sai pavan', 'mahidhar', 'kushwanth', 'srikar', 'saketh', 'laxman'}\n"
          ]
        }
      ]
    },
    {
      "cell_type": "code",
      "source": [
        "a={\"sai charan\",\"sai pavan\",\"saketh\",\"laxman\"}\n",
        "b=[\"kushwanth\",\"mahidhar\",\"srikar\"]\n",
        "a.update(b)#updating the list to a set\n",
        "print(a)"
      ],
      "metadata": {
        "colab": {
          "base_uri": "https://localhost:8080/"
        },
        "id": "cDemce3ZW2f1",
        "outputId": "bea65993-cc3e-4436-cd65-4a51b36df0de"
      },
      "execution_count": 15,
      "outputs": [
        {
          "output_type": "stream",
          "name": "stdout",
          "text": [
            "{'sai charan', 'sai pavan', 'mahidhar', 'kushwanth', 'laxman', 'srikar', 'saketh'}\n"
          ]
        }
      ]
    },
    {
      "cell_type": "code",
      "source": [
        "a={\"sai charan\",\"sai pavan\",\"saketh\",\"laxman\",\"sai charan\"}\n",
        "print(len(a))#not counting the duplicate values"
      ],
      "metadata": {
        "colab": {
          "base_uri": "https://localhost:8080/"
        },
        "id": "64SoIKNEXj2m",
        "outputId": "3142ebef-911a-46ad-9b82-624db47eb922"
      },
      "execution_count": 16,
      "outputs": [
        {
          "output_type": "stream",
          "name": "stdout",
          "text": [
            "4\n"
          ]
        }
      ]
    },
    {
      "cell_type": "code",
      "source": [
        "a={\"sai charan\",\"sai pavan\",\"saketh\",\"laxman\"}\n",
        "a.remove(\"sai pavan\")\n",
        "print(a)"
      ],
      "metadata": {
        "colab": {
          "base_uri": "https://localhost:8080/"
        },
        "id": "yCbGA3OjYB1F",
        "outputId": "0f63fb5a-1e17-4553-e572-f6c004ce36dc"
      },
      "execution_count": 17,
      "outputs": [
        {
          "output_type": "stream",
          "name": "stdout",
          "text": [
            "{'sai charan', 'saketh', 'laxman'}\n"
          ]
        }
      ]
    },
    {
      "cell_type": "code",
      "source": [
        "a={\"sai charan\",\"sai pavan\",\"saketh\",\"laxman\"}\n",
        "a.discard(\"sai pavan\")\n",
        "print(a)"
      ],
      "metadata": {
        "colab": {
          "base_uri": "https://localhost:8080/"
        },
        "id": "HaZLJid4YrHd",
        "outputId": "e190e0b8-f286-4ff8-d366-4cc5e8e7a73a"
      },
      "execution_count": 18,
      "outputs": [
        {
          "output_type": "stream",
          "name": "stdout",
          "text": [
            "{'sai charan', 'saketh', 'laxman'}\n"
          ]
        }
      ]
    },
    {
      "cell_type": "code",
      "source": [
        "a={\"sai charan\",\"sai pavan\",\"saketh\",\"laxman\"}\n",
        "x=a.pop()\n",
        "print(x)\n",
        "print(a)"
      ],
      "metadata": {
        "colab": {
          "base_uri": "https://localhost:8080/"
        },
        "id": "Kk6lxK3mY457",
        "outputId": "fa31cf27-86af-4aab-8bdb-4a78bc5b6304"
      },
      "execution_count": 21,
      "outputs": [
        {
          "output_type": "stream",
          "name": "stdout",
          "text": [
            "sai charan\n",
            "{'sai pavan', 'saketh', 'laxman'}\n"
          ]
        }
      ]
    },
    {
      "cell_type": "code",
      "source": [
        "a={\"sai charan\",\"sai pavan\",\"saketh\",\"laxman\"}\n",
        "a.clear()\n",
        "print(a)"
      ],
      "metadata": {
        "colab": {
          "base_uri": "https://localhost:8080/"
        },
        "id": "2HpM96zgZE-j",
        "outputId": "de4beff2-88ab-4cf0-8e3b-8bc050eec968"
      },
      "execution_count": 22,
      "outputs": [
        {
          "output_type": "stream",
          "name": "stdout",
          "text": [
            "set()\n"
          ]
        }
      ]
    },
    {
      "cell_type": "code",
      "source": [
        "a={\"sai charan\",\"sai pavan\",\"saketh\",\"laxman\"}\n",
        "del a\n",
        "print(a)#this will raise an error because the set no longer exists"
      ],
      "metadata": {
        "colab": {
          "base_uri": "https://localhost:8080/",
          "height": 200
        },
        "id": "sKpZ-EtlZXx5",
        "outputId": "739cb4cc-0b3c-49f8-e72f-e610c7e8f0fe"
      },
      "execution_count": 23,
      "outputs": [
        {
          "output_type": "error",
          "ename": "NameError",
          "evalue": "ignored",
          "traceback": [
            "\u001b[0;31m---------------------------------------------------------------------------\u001b[0m",
            "\u001b[0;31mNameError\u001b[0m                                 Traceback (most recent call last)",
            "\u001b[0;32m<ipython-input-23-8be7e9104484>\u001b[0m in \u001b[0;36m<module>\u001b[0;34m()\u001b[0m\n\u001b[1;32m      1\u001b[0m \u001b[0ma\u001b[0m\u001b[0;34m=\u001b[0m\u001b[0;34m{\u001b[0m\u001b[0;34m\"sai charan\"\u001b[0m\u001b[0;34m,\u001b[0m\u001b[0;34m\"sai pavan\"\u001b[0m\u001b[0;34m,\u001b[0m\u001b[0;34m\"saketh\"\u001b[0m\u001b[0;34m,\u001b[0m\u001b[0;34m\"laxman\"\u001b[0m\u001b[0;34m}\u001b[0m\u001b[0;34m\u001b[0m\u001b[0;34m\u001b[0m\u001b[0m\n\u001b[1;32m      2\u001b[0m \u001b[0;32mdel\u001b[0m \u001b[0ma\u001b[0m\u001b[0;34m\u001b[0m\u001b[0;34m\u001b[0m\u001b[0m\n\u001b[0;32m----> 3\u001b[0;31m \u001b[0mprint\u001b[0m\u001b[0;34m(\u001b[0m\u001b[0ma\u001b[0m\u001b[0;34m)\u001b[0m\u001b[0;31m#this will raise an error because the set no longer exists\u001b[0m\u001b[0;34m\u001b[0m\u001b[0;34m\u001b[0m\u001b[0m\n\u001b[0m",
            "\u001b[0;31mNameError\u001b[0m: name 'a' is not defined"
          ]
        }
      ]
    },
    {
      "cell_type": "code",
      "source": [
        "a={\"sai charan\",\"sai pavan\",\"saketh\",\"laxman\"}\n",
        "for x in a:\n",
        "  print(x)"
      ],
      "metadata": {
        "colab": {
          "base_uri": "https://localhost:8080/"
        },
        "id": "LGU7cKXnZhBT",
        "outputId": "154d9ab8-8a63-429e-9c1c-43f8c13d5ba6"
      },
      "execution_count": 24,
      "outputs": [
        {
          "output_type": "stream",
          "name": "stdout",
          "text": [
            "sai charan\n",
            "sai pavan\n",
            "saketh\n",
            "laxman\n"
          ]
        }
      ]
    },
    {
      "cell_type": "code",
      "source": [
        "a={\"sai charan\",\"sai pavan\",\"saketh\",\"laxman\"}\n",
        "b={\"kushwanth\",\"mahidhar\",\"srikar\"}\n",
        "c=a.union(b)\n",
        "print(c)"
      ],
      "metadata": {
        "colab": {
          "base_uri": "https://localhost:8080/"
        },
        "id": "7UL6LHddZ52b",
        "outputId": "218b236d-9f2f-4c44-9532-bc1cf142ab56"
      },
      "execution_count": 26,
      "outputs": [
        {
          "output_type": "stream",
          "name": "stdout",
          "text": [
            "{'sai charan', 'sai pavan', 'mahidhar', 'kushwanth', 'srikar', 'saketh', 'laxman'}\n"
          ]
        }
      ]
    },
    {
      "cell_type": "code",
      "source": [
        "a={\"sai charan\",\"sai pavan\",\"saketh\",\"laxman\"}\n",
        "b={1,2,3,4,5}\n",
        "a.update(b)\n",
        "print(a)\n",
        "#Note: Both union() and update() will exclude any duplicate items."
      ],
      "metadata": {
        "colab": {
          "base_uri": "https://localhost:8080/"
        },
        "id": "emWc0BoaaKco",
        "outputId": "d8ebc975-2edf-452f-c887-04489d25ba65"
      },
      "execution_count": 27,
      "outputs": [
        {
          "output_type": "stream",
          "name": "stdout",
          "text": [
            "{'sai charan', 'sai pavan', 1, 2, 3, 4, 5, 'laxman', 'saketh'}\n"
          ]
        }
      ]
    },
    {
      "cell_type": "code",
      "source": [
        "a={\"sai charan\",\"sai pavan\",\"saketh\",\"laxman\"}\n",
        "b={\"kushwanth\",\"mahidhar\",\"srikar\",\"sai charan\"}\n",
        "c=a.intersection(b)\n",
        "print(c)"
      ],
      "metadata": {
        "colab": {
          "base_uri": "https://localhost:8080/"
        },
        "id": "vkKBfyU0aZ1s",
        "outputId": "5cf2e842-05f1-4e94-f624-a05c5bcb9a0d"
      },
      "execution_count": 28,
      "outputs": [
        {
          "output_type": "stream",
          "name": "stdout",
          "text": [
            "{'sai charan'}\n"
          ]
        }
      ]
    },
    {
      "cell_type": "code",
      "source": [
        "a={\"sai charan\",\"sai pavan\",\"saketh\",\"laxman\"}\n",
        "b={\"kushwanth\",\"mahidhar\",\"srikar\",\"sai charan\"}\n",
        "c=a.difference(b)\n",
        "print(c)#removes elements in the set1 which are same in set2"
      ],
      "metadata": {
        "colab": {
          "base_uri": "https://localhost:8080/"
        },
        "id": "SN7m5i-iau-C",
        "outputId": "5dc52980-7506-473c-8247-2bc870a77803"
      },
      "execution_count": 29,
      "outputs": [
        {
          "output_type": "stream",
          "name": "stdout",
          "text": [
            "{'sai pavan', 'saketh', 'laxman'}\n"
          ]
        }
      ]
    },
    {
      "cell_type": "code",
      "source": [
        "a={\"sai charan\",\"sai pavan\",\"saketh\",\"laxman\"}\n",
        "b={\"kushwanth\",\"mahidhar\",\"srikar\",\"sai charan\"}\n",
        "c=a.symmetric_difference(b)\n",
        "print(c)"
      ],
      "metadata": {
        "colab": {
          "base_uri": "https://localhost:8080/"
        },
        "id": "matnRYKzbMob",
        "outputId": "5175e2df-278d-4105-8439-ccc310e8443a"
      },
      "execution_count": 30,
      "outputs": [
        {
          "output_type": "stream",
          "name": "stdout",
          "text": [
            "{'sai pavan', 'mahidhar', 'kushwanth', 'laxman', 'srikar', 'saketh'}\n"
          ]
        }
      ]
    }
  ]
}