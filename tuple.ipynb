{
  "nbformat": 4,
  "nbformat_minor": 0,
  "metadata": {
    "colab": {
      "name": "tuple.ipynb",
      "provenance": [],
      "authorship_tag": "ABX9TyORwsl1qtxyAEhaIGup8S0P",
      "include_colab_link": true
    },
    "kernelspec": {
      "name": "python3",
      "display_name": "Python 3"
    },
    "language_info": {
      "name": "python"
    }
  },
  "cells": [
    {
      "cell_type": "markdown",
      "metadata": {
        "id": "view-in-github",
        "colab_type": "text"
      },
      "source": [
        "<a href=\"https://colab.research.google.com/github/smandava22/python-practice/blob/main/tuple.ipynb\" target=\"_parent\"><img src=\"https://colab.research.google.com/assets/colab-badge.svg\" alt=\"Open In Colab\"/></a>"
      ]
    },
    {
      "cell_type": "code",
      "execution_count": 1,
      "metadata": {
        "colab": {
          "base_uri": "https://localhost:8080/"
        },
        "id": "2Sqfl2cSiceB",
        "outputId": "5e0bbf41-87bb-4e0d-9caf-b7f06c756445"
      },
      "outputs": [
        {
          "output_type": "stream",
          "name": "stdout",
          "text": [
            "('saicharan', 'ramcharan', 'ntr', 'alluarjun', 'prabhas')\n"
          ]
        }
      ],
      "source": [
        "a=('saicharan','ramcharan','ntr','alluarjun','prabhas')\n",
        "print(a)"
      ]
    },
    {
      "cell_type": "code",
      "source": [
        "a=('saicharan','ramcharan','ntr','alluarjun','prabhas')\n",
        "print(len(a))"
      ],
      "metadata": {
        "colab": {
          "base_uri": "https://localhost:8080/"
        },
        "id": "zrwtYoP8jgPa",
        "outputId": "adb90359-7395-4682-b422-f37ae60658d7"
      },
      "execution_count": 2,
      "outputs": [
        {
          "output_type": "stream",
          "name": "stdout",
          "text": [
            "5\n"
          ]
        }
      ]
    },
    {
      "cell_type": "code",
      "source": [
        "a=('saicharan')\n",
        "print(type(a)) # not a tuple\n",
        "b=('saicharan',)\n",
        "print(type(b)) #tuple"
      ],
      "metadata": {
        "colab": {
          "base_uri": "https://localhost:8080/"
        },
        "id": "3gyvbxkajxEK",
        "outputId": "b491e2fb-d342-4d9f-f8fc-19eff09cd2d2"
      },
      "execution_count": 8,
      "outputs": [
        {
          "output_type": "stream",
          "name": "stdout",
          "text": [
            "<class 'str'>\n",
            "<class 'tuple'>\n"
          ]
        }
      ]
    },
    {
      "cell_type": "code",
      "source": [
        "a=('saicharan',)\n",
        "print(a)"
      ],
      "metadata": {
        "colab": {
          "base_uri": "https://localhost:8080/"
        },
        "id": "J70l5zj_kIp7",
        "outputId": "260e7300-0010-492d-f565-b011dfe86f57"
      },
      "execution_count": 6,
      "outputs": [
        {
          "output_type": "stream",
          "name": "stdout",
          "text": [
            "('saicharan',)\n"
          ]
        }
      ]
    },
    {
      "cell_type": "code",
      "source": [
        "#Tuples allow duplicate values:\n",
        "a=('saicharan','ramcharan','ntr','alluarjun','prabhas','saicharan')\n",
        "print(a)"
      ],
      "metadata": {
        "colab": {
          "base_uri": "https://localhost:8080/"
        },
        "id": "bYdcT8Prm3ED",
        "outputId": "e666f162-95f2-48af-9c39-c47b5329b9e1"
      },
      "execution_count": 7,
      "outputs": [
        {
          "output_type": "stream",
          "name": "stdout",
          "text": [
            "('saicharan', 'ramcharan', 'ntr', 'alluarjun', 'prabhas', 'saicharan')\n"
          ]
        }
      ]
    },
    {
      "cell_type": "code",
      "source": [
        "a=('saicharan','ramcharan','ntr','alluarjun','prabhas')\n",
        "print(a[2])"
      ],
      "metadata": {
        "colab": {
          "base_uri": "https://localhost:8080/"
        },
        "id": "uf9xpspmnhwp",
        "outputId": "746ff10e-7ea6-4797-811a-ebef6fddfdca"
      },
      "execution_count": 9,
      "outputs": [
        {
          "output_type": "stream",
          "name": "stdout",
          "text": [
            "ntr\n"
          ]
        }
      ]
    },
    {
      "cell_type": "code",
      "source": [
        "#Print the last item of the tuple:\n",
        "a=('saicharan','ramcharan','ntr','alluarjun','prabhas')\n",
        "print(a[-1])"
      ],
      "metadata": {
        "colab": {
          "base_uri": "https://localhost:8080/"
        },
        "id": "u-i3iV5sn7I6",
        "outputId": "1664d260-4e55-4102-b972-3ecf7af4d27e"
      },
      "execution_count": 10,
      "outputs": [
        {
          "output_type": "stream",
          "name": "stdout",
          "text": [
            "prabhas\n"
          ]
        }
      ]
    },
    {
      "cell_type": "code",
      "source": [
        "a=('saicharan','ramcharan','ntr','alluarjun','prabhas')\n",
        "print(a[1:4])\n",
        "#This will return the items from position 2 to 4.\n",
        "\n",
        "#Remember that the first item is position 0,\n",
        "#and note that the item in position 4 is NOT included\n"
      ],
      "metadata": {
        "colab": {
          "base_uri": "https://localhost:8080/"
        },
        "id": "xMzkGerPoNdh",
        "outputId": "7c1b6804-41ec-47f1-8ab0-231645608cb6"
      },
      "execution_count": 12,
      "outputs": [
        {
          "output_type": "stream",
          "name": "stdout",
          "text": [
            "('ramcharan', 'ntr', 'alluarjun')\n"
          ]
        }
      ]
    },
    {
      "cell_type": "code",
      "source": [
        "a=('saicharan','ramcharan','ntr','alluarjun','prabhas')\n",
        "print(a[:4])"
      ],
      "metadata": {
        "colab": {
          "base_uri": "https://localhost:8080/"
        },
        "id": "vv-s5GnNon5E",
        "outputId": "37b587d7-5454-4829-ef69-c5fa15614300"
      },
      "execution_count": 13,
      "outputs": [
        {
          "output_type": "stream",
          "name": "stdout",
          "text": [
            "('saicharan', 'ramcharan', 'ntr', 'alluarjun')\n"
          ]
        }
      ]
    },
    {
      "cell_type": "code",
      "source": [
        "a=('saicharan','ramcharan','ntr','alluarjun','prabhas')\n",
        "print(a[2:])"
      ],
      "metadata": {
        "colab": {
          "base_uri": "https://localhost:8080/"
        },
        "id": "aRMWt-oZoyaa",
        "outputId": "696cfe5f-f14c-46a4-cba0-e2d9e123c8db"
      },
      "execution_count": 14,
      "outputs": [
        {
          "output_type": "stream",
          "name": "stdout",
          "text": [
            "('ntr', 'alluarjun', 'prabhas')\n"
          ]
        }
      ]
    },
    {
      "cell_type": "code",
      "source": [
        "a=('saicharan','ramcharan','ntr','alluarjun','prabhas')\n",
        "print(a[-4:-2])"
      ],
      "metadata": {
        "colab": {
          "base_uri": "https://localhost:8080/"
        },
        "id": "_TyVGlx7o6Ax",
        "outputId": "f19a9117-4bf5-426b-803e-e24ac53123bf"
      },
      "execution_count": 17,
      "outputs": [
        {
          "output_type": "stream",
          "name": "stdout",
          "text": [
            "('ramcharan', 'ntr')\n"
          ]
        }
      ]
    },
    {
      "cell_type": "code",
      "source": [
        "a=('a','b','c','d','e')\n",
        "print(a)\n",
        "x=list(a)\n",
        "x.append(\"z\")\n",
        "print(x)\n",
        "b=tuple(x)\n",
        "print(b)"
      ],
      "metadata": {
        "colab": {
          "base_uri": "https://localhost:8080/"
        },
        "id": "fch-b1ykpRMK",
        "outputId": "9f4e2e84-1101-400f-b05b-fd1dd2109ee4"
      },
      "execution_count": 19,
      "outputs": [
        {
          "output_type": "stream",
          "name": "stdout",
          "text": [
            "('a', 'b', 'c', 'd', 'e')\n",
            "['a', 'b', 'c', 'd', 'e', 'z']\n",
            "('a', 'b', 'c', 'd', 'e', 'z')\n"
          ]
        }
      ]
    },
    {
      "cell_type": "code",
      "source": [
        "#adding tuple to a tuple\n",
        "a=('a','b','c','d','e')\n",
        "b=('1','2','3')\n",
        "a=a+b\n",
        "print(a)"
      ],
      "metadata": {
        "colab": {
          "base_uri": "https://localhost:8080/"
        },
        "id": "gliJSPZtqTeZ",
        "outputId": "8a8d7bcc-5496-451f-dd07-fb8886711fb2"
      },
      "execution_count": 21,
      "outputs": [
        {
          "output_type": "stream",
          "name": "stdout",
          "text": [
            "('a', 'b', 'c', 'd', 'e', '1', '2', '3')\n"
          ]
        }
      ]
    },
    {
      "cell_type": "code",
      "source": [
        "#removing an element from a tuple\n",
        "a=('a','b','c','d','e')\n",
        "print(a)\n",
        "x=list(a)\n",
        "x.remove(\"c\")\n",
        "print(x)\n",
        "b=tuple(x)\n",
        "print(b)"
      ],
      "metadata": {
        "colab": {
          "base_uri": "https://localhost:8080/"
        },
        "id": "MYRDCAiLqtwp",
        "outputId": "af1fb2b8-2e7e-4a16-f3cb-a404a877118d"
      },
      "execution_count": 22,
      "outputs": [
        {
          "output_type": "stream",
          "name": "stdout",
          "text": [
            "('a', 'b', 'c', 'd', 'e')\n",
            "['a', 'b', 'd', 'e']\n",
            "('a', 'b', 'd', 'e')\n"
          ]
        }
      ]
    },
    {
      "cell_type": "code",
      "source": [
        "a=('a','b','c','d','e')\n",
        "del a\n",
        "print(a)#this will raise an error because the tuple no longer exists"
      ],
      "metadata": {
        "colab": {
          "base_uri": "https://localhost:8080/",
          "height": 200
        },
        "id": "UkDyLUNrrDls",
        "outputId": "b89833bf-9539-4284-d415-24aa8785a0bc"
      },
      "execution_count": 23,
      "outputs": [
        {
          "output_type": "error",
          "ename": "NameError",
          "evalue": "ignored",
          "traceback": [
            "\u001b[0;31m---------------------------------------------------------------------------\u001b[0m",
            "\u001b[0;31mNameError\u001b[0m                                 Traceback (most recent call last)",
            "\u001b[0;32m<ipython-input-23-a0831d4dae5c>\u001b[0m in \u001b[0;36m<module>\u001b[0;34m()\u001b[0m\n\u001b[1;32m      1\u001b[0m \u001b[0ma\u001b[0m\u001b[0;34m=\u001b[0m\u001b[0;34m(\u001b[0m\u001b[0;34m'a'\u001b[0m\u001b[0;34m,\u001b[0m\u001b[0;34m'b'\u001b[0m\u001b[0;34m,\u001b[0m\u001b[0;34m'c'\u001b[0m\u001b[0;34m,\u001b[0m\u001b[0;34m'd'\u001b[0m\u001b[0;34m,\u001b[0m\u001b[0;34m'e'\u001b[0m\u001b[0;34m)\u001b[0m\u001b[0;34m\u001b[0m\u001b[0;34m\u001b[0m\u001b[0m\n\u001b[1;32m      2\u001b[0m \u001b[0;32mdel\u001b[0m \u001b[0ma\u001b[0m\u001b[0;34m\u001b[0m\u001b[0;34m\u001b[0m\u001b[0m\n\u001b[0;32m----> 3\u001b[0;31m \u001b[0mprint\u001b[0m\u001b[0;34m(\u001b[0m\u001b[0ma\u001b[0m\u001b[0;34m)\u001b[0m\u001b[0;31m#this will raise an error because the tuple no longer exists\u001b[0m\u001b[0;34m\u001b[0m\u001b[0;34m\u001b[0m\u001b[0m\n\u001b[0m",
            "\u001b[0;31mNameError\u001b[0m: name 'a' is not defined"
          ]
        }
      ]
    },
    {
      "cell_type": "code",
      "source": [
        "#unpack\n",
        "a = ('a','b','c','d','e')\n",
        "(z,x,y,p,q) = a\n",
        "print(p)\n",
        "print(y)\n",
        "print(x)\n"
      ],
      "metadata": {
        "colab": {
          "base_uri": "https://localhost:8080/"
        },
        "id": "ywLyDFCzrZF5",
        "outputId": "b29236e3-fdd3-4772-d732-dd916f70f87a"
      },
      "execution_count": 25,
      "outputs": [
        {
          "output_type": "stream",
          "name": "stdout",
          "text": [
            "d\n",
            "c\n",
            "b\n"
          ]
        }
      ]
    },
    {
      "cell_type": "code",
      "source": [
        "#unpack\n",
        "a = ('a','b','c','d','e')\n",
        "(z,x,*y) = a\n",
        "print(z)\n",
        "print(x)\n",
        "print(y) #it prints list"
      ],
      "metadata": {
        "colab": {
          "base_uri": "https://localhost:8080/"
        },
        "id": "EuhO3p-OspKx",
        "outputId": "2146319f-8dd6-40c0-8274-6b8cf8577182"
      },
      "execution_count": 26,
      "outputs": [
        {
          "output_type": "stream",
          "name": "stdout",
          "text": [
            "a\n",
            "b\n",
            "['c', 'd', 'e']\n"
          ]
        }
      ]
    },
    {
      "cell_type": "code",
      "source": [
        "#unpack\n",
        "a = ('a','b','c','d','e')\n",
        "(z,*y,x) = a\n",
        "print(z)\n",
        "print(x)\n",
        "print(y) #it prints list"
      ],
      "metadata": {
        "colab": {
          "base_uri": "https://localhost:8080/"
        },
        "id": "zfTnpqlutKER",
        "outputId": "2ddba250-4ab5-41d8-86ed-225e3fdca670"
      },
      "execution_count": 27,
      "outputs": [
        {
          "output_type": "stream",
          "name": "stdout",
          "text": [
            "a\n",
            "e\n",
            "['b', 'c', 'd']\n"
          ]
        }
      ]
    },
    {
      "cell_type": "code",
      "source": [
        "#loop\n",
        "a = ('a','b','c','d','e')\n",
        "for i in a:\n",
        "  print(i)"
      ],
      "metadata": {
        "colab": {
          "base_uri": "https://localhost:8080/"
        },
        "id": "vSQbTdfWtUeJ",
        "outputId": "a7ba1b45-7ecd-4ca7-af01-5e2a8adb8817"
      },
      "execution_count": 29,
      "outputs": [
        {
          "output_type": "stream",
          "name": "stdout",
          "text": [
            "a\n",
            "b\n",
            "c\n",
            "d\n",
            "e\n"
          ]
        }
      ]
    },
    {
      "cell_type": "code",
      "source": [
        "a = ('a','b','c','d','e')\n",
        "for i in range(len(a)):\n",
        "      print(a[i])"
      ],
      "metadata": {
        "colab": {
          "base_uri": "https://localhost:8080/"
        },
        "id": "5oPvyVi4tvzq",
        "outputId": "ba1825a4-dd00-4e3d-dc7f-62a09138207f"
      },
      "execution_count": 31,
      "outputs": [
        {
          "output_type": "stream",
          "name": "stdout",
          "text": [
            "a\n",
            "b\n",
            "c\n",
            "d\n",
            "e\n"
          ]
        }
      ]
    },
    {
      "cell_type": "code",
      "source": [
        "a = ('a','b','c','d','e')\n",
        "i=0\n",
        "while i<len(a):\n",
        "  print(a[i])\n",
        "  i=i+1"
      ],
      "metadata": {
        "colab": {
          "base_uri": "https://localhost:8080/"
        },
        "id": "3uul7ErpuoFh",
        "outputId": "0d0db048-365d-476f-b45f-08fdf2cb45c2"
      },
      "execution_count": 34,
      "outputs": [
        {
          "output_type": "stream",
          "name": "stdout",
          "text": [
            "a\n",
            "b\n",
            "c\n",
            "d\n",
            "e\n"
          ]
        }
      ]
    },
    {
      "cell_type": "code",
      "source": [
        "#adding tuple to a tuple\n",
        "a=('a','b','c','d','e')\n",
        "b=('1','2','3')\n",
        "a=a+b\n",
        "print(a)"
      ],
      "metadata": {
        "id": "LcSdHDxqxppR"
      },
      "execution_count": null,
      "outputs": []
    },
    {
      "cell_type": "code",
      "source": [
        "a=('a','b','c','d','e')\n",
        "b=a*2\n",
        "print(b)"
      ],
      "metadata": {
        "colab": {
          "base_uri": "https://localhost:8080/"
        },
        "id": "RlskHx5ix4L4",
        "outputId": "5497fc5f-707d-43c0-8700-1f8ef4fc0c99"
      },
      "execution_count": 35,
      "outputs": [
        {
          "output_type": "stream",
          "name": "stdout",
          "text": [
            "('a', 'b', 'c', 'd', 'e', 'a', 'b', 'c', 'd', 'e')\n"
          ]
        }
      ]
    },
    {
      "cell_type": "code",
      "source": [
        "a=('a', 'b', 'c', 'd', 'e', 'a', 'b', 'c', 'd', 'e')\n",
        "b=a.count('a')\n",
        "print(b)"
      ],
      "metadata": {
        "colab": {
          "base_uri": "https://localhost:8080/"
        },
        "id": "ztxUj4aYyBNB",
        "outputId": "8b12d3ee-54d8-463c-e183-59504b1b9aca"
      },
      "execution_count": 36,
      "outputs": [
        {
          "output_type": "stream",
          "name": "stdout",
          "text": [
            "2\n"
          ]
        }
      ]
    },
    {
      "cell_type": "code",
      "source": [
        "a=('a', 'b', 'c', 'd', 'e', 'a', 'b', 'c', 'd', 'e')\n",
        "b=a.index('c')#Required. The item to search for\n",
        "print(b)"
      ],
      "metadata": {
        "colab": {
          "base_uri": "https://localhost:8080/"
        },
        "id": "WYn1SSV9yX3a",
        "outputId": "43d393b5-1f11-4b9d-86c1-5208e5094636"
      },
      "execution_count": 37,
      "outputs": [
        {
          "output_type": "stream",
          "name": "stdout",
          "text": [
            "2\n"
          ]
        }
      ]
    }
  ]
}