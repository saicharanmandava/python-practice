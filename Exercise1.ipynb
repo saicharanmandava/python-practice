{
  "nbformat": 4,
  "nbformat_minor": 0,
  "metadata": {
    "colab": {
      "name": "Exercise1.ipynb",
      "provenance": [],
      "authorship_tag": "ABX9TyNW4vYvkzAKyDykyeqBj886",
      "include_colab_link": true
    },
    "kernelspec": {
      "name": "python3",
      "display_name": "Python 3"
    },
    "language_info": {
      "name": "python"
    }
  },
  "cells": [
    {
      "cell_type": "markdown",
      "metadata": {
        "id": "view-in-github",
        "colab_type": "text"
      },
      "source": [
        "<a href=\"https://colab.research.google.com/github/smandava22/python-practice/blob/main/Exercise1.ipynb\" target=\"_parent\"><img src=\"https://colab.research.google.com/assets/colab-badge.svg\" alt=\"Open In Colab\"/></a>"
      ]
    },
    {
      "cell_type": "code",
      "execution_count": null,
      "metadata": {
        "id": "xbD4U6gLkaXG"
      },
      "outputs": [],
      "source": [
        "a=int(input(\"\"))\n",
        "print(a)"
      ]
    },
    {
      "cell_type": "code",
      "source": [
        "a=int(input(\"\"))\n",
        "print(float(a))\n",
        "print(str(a))\n",
        "print(complex(a))\n",
        "print(str(a))"
      ],
      "metadata": {
        "id": "xZCLYJGHkd1U"
      },
      "execution_count": null,
      "outputs": []
    },
    {
      "cell_type": "code",
      "source": [
        "a=int(input(\"\"))\n",
        "b=int(input(\"\"))\n",
        "print(a+b)\n",
        "print(a-b)\n",
        "print(a*b)\n",
        "print(a/b)"
      ],
      "metadata": {
        "id": "RwFztuTxkinS"
      },
      "execution_count": null,
      "outputs": []
    },
    {
      "cell_type": "code",
      "source": [
        "a=int(input(\"\"))\n",
        "print(type(a))\n",
        "b=float(a)\n",
        "print(type(b))"
      ],
      "metadata": {
        "id": "jP_zSIVmkkKZ"
      },
      "execution_count": null,
      "outputs": []
    },
    {
      "cell_type": "code",
      "source": [
        "#hours to minutes\n",
        "a=int(input(\"\")) #hours\n",
        "print(a*60,\"seconds\")"
      ],
      "metadata": {
        "id": "UwsZIfvrknGC"
      },
      "execution_count": null,
      "outputs": []
    },
    {
      "cell_type": "code",
      "source": [
        "a=int(input(\"\"))\n",
        "print(a*1.60934,\"KM\")"
      ],
      "metadata": {
        "id": "Qfv8TyeUkrsy"
      },
      "execution_count": null,
      "outputs": []
    },
    {
      "cell_type": "code",
      "source": [
        "#usage of mathematical fuctions in python like math.ceil,floor,fabs,fmod,trunc,pow,sqrt etc\n",
        "import math\n",
        "a=float(input(\"\"))\n",
        "b=float(input(\"\"))\n",
        "print(math.ceil(a)) #rounding off to nearest number and printing greatest integer\n",
        "print(math.floor(a)) #taking only integer value and printing smallest integer\n",
        "print(math.fabs(a))   #printing the modulus value\n",
        "print(math.fmod(a,b)) #remainder\n",
        "print(math.sqrt(a)) #squaring\n",
        "print(math.pow(a,b))\n",
        "print(math.trunc(a)) #"
      ],
      "metadata": {
        "id": "GWaGSssdku1L"
      },
      "execution_count": null,
      "outputs": []
    },
    {
      "cell_type": "code",
      "source": [
        "#maths calculator\n",
        "a=float(input(\"\"))\n",
        "b=float(input(\"\"))\n",
        "c=str(input(\"\"))\n",
        "if c=='+':\n",
        " print(a+b)\n",
        "elif c=='-' :\n",
        "    print(a-b)\n",
        "elif c=='*':\n",
        "    print(a*b)\n",
        "else:\n",
        "    print(a/b)"
      ],
      "metadata": {
        "id": "ifSbZQSDkzbi"
      },
      "execution_count": null,
      "outputs": []
    },
    {
      "cell_type": "code",
      "source": [
        "#grade\n",
        "a=int(input(\"\"))\n",
        "b=int(input(\"\"))\n",
        "c=int(input(\"\"))\n",
        "d=int(input(\"\"))\n",
        "e=int(input(\"\"))\n",
        "f=(a+b+c+d+e)/5\n",
        "if f>=90:\n",
        "    print(\"O\")\n",
        "elif f>80 and f<90:\n",
        "    print(\"A\")\n",
        "else:\n",
        "    print(\"FAIL\")"
      ],
      "metadata": {
        "id": "Qgv-jhYok2eC"
      },
      "execution_count": null,
      "outputs": []
    },
    {
      "cell_type": "code",
      "source": [
        "for i in range(1,100):\n",
        "    if i%2==0:\n",
        "        print(i)"
      ],
      "metadata": {
        "colab": {
          "base_uri": "https://localhost:8080/"
        },
        "id": "G8OfRXlGk9M6",
        "outputId": "3a121e3c-be9f-44cc-8868-824ff3869b0c"
      },
      "execution_count": 10,
      "outputs": [
        {
          "output_type": "stream",
          "name": "stdout",
          "text": [
            "2\n",
            "4\n",
            "6\n",
            "8\n",
            "10\n",
            "12\n",
            "14\n",
            "16\n",
            "18\n",
            "20\n",
            "22\n",
            "24\n",
            "26\n",
            "28\n",
            "30\n",
            "32\n",
            "34\n",
            "36\n",
            "38\n",
            "40\n",
            "42\n",
            "44\n",
            "46\n",
            "48\n",
            "50\n",
            "52\n",
            "54\n",
            "56\n",
            "58\n",
            "60\n",
            "62\n",
            "64\n",
            "66\n",
            "68\n",
            "70\n",
            "72\n",
            "74\n",
            "76\n",
            "78\n",
            "80\n",
            "82\n",
            "84\n",
            "86\n",
            "88\n",
            "90\n",
            "92\n",
            "94\n",
            "96\n",
            "98\n"
          ]
        }
      ]
    },
    {
      "cell_type": "code",
      "source": [
        "n=int(input(\"\"))\n",
        "i=0\n",
        "while i<n:\n",
        "  i = i + 1\n",
        "  if i%2==0:\n",
        "    print(i)"
      ],
      "metadata": {
        "colab": {
          "base_uri": "https://localhost:8080/"
        },
        "id": "HB-9dOeXk_mi",
        "outputId": "a0d87f0a-59a5-4319-b44a-a3805b3b99de"
      },
      "execution_count": 9,
      "outputs": [
        {
          "output_type": "stream",
          "name": "stdout",
          "text": [
            "100\n",
            "2\n",
            "4\n",
            "6\n",
            "8\n",
            "10\n",
            "12\n",
            "14\n",
            "16\n",
            "18\n",
            "20\n",
            "22\n",
            "24\n",
            "26\n",
            "28\n",
            "30\n",
            "32\n",
            "34\n",
            "36\n",
            "38\n",
            "40\n",
            "42\n",
            "44\n",
            "46\n",
            "48\n",
            "50\n",
            "52\n",
            "54\n",
            "56\n",
            "58\n",
            "60\n",
            "62\n",
            "64\n",
            "66\n",
            "68\n",
            "70\n",
            "72\n",
            "74\n",
            "76\n",
            "78\n",
            "80\n",
            "82\n",
            "84\n",
            "86\n",
            "88\n",
            "90\n",
            "92\n",
            "94\n",
            "96\n",
            "98\n",
            "100\n"
          ]
        }
      ]
    }
  ]
}