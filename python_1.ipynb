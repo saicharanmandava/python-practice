{
  "nbformat": 4,
  "nbformat_minor": 0,
  "metadata": {
    "colab": {
      "name": "python_1.ipynb",
      "provenance": [],
      "authorship_tag": "ABX9TyORHZmkg8al3BHeu0AFXmUo",
      "include_colab_link": true
    },
    "kernelspec": {
      "name": "python3",
      "display_name": "Python 3"
    },
    "language_info": {
      "name": "python"
    }
  },
  "cells": [
    {
      "cell_type": "markdown",
      "metadata": {
        "id": "view-in-github",
        "colab_type": "text"
      },
      "source": [
        "<a href=\"https://colab.research.google.com/github/smandava22/python-practice/blob/main/python_1.ipynb\" target=\"_parent\"><img src=\"https://colab.research.google.com/assets/colab-badge.svg\" alt=\"Open In Colab\"/></a>"
      ]
    },
    {
      "cell_type": "code",
      "source": [
        "#write a python program to find power of number with recursion and without recursion(input n=2 , p=3)\n",
        "n=int(input())\n",
        "p=int(input())\n",
        "x=n**p\n",
        "print(x)"
      ],
      "metadata": {
        "colab": {
          "base_uri": "https://localhost:8080/"
        },
        "id": "AjdQwod0IG3l",
        "outputId": "352f6e51-19c8-419e-b325-fa526e1b3766"
      },
      "execution_count": 1,
      "outputs": [
        {
          "output_type": "stream",
          "name": "stdout",
          "text": [
            "5\n",
            "6\n",
            "15625\n"
          ]
        }
      ]
    },
    {
      "cell_type": "code",
      "source": [
        "#write a program to sort tuple by total digits (input: list=[(3,4,6,723),(1,2),(134,234,34)])\n",
        "#output:[(1,2)(3,4,6,723)(34,134,234)]"
      ],
      "metadata": {
        "id": "9j1Xl-ckKIr7"
      },
      "execution_count": null,
      "outputs": []
    },
    {
      "cell_type": "code",
      "source": [
        "#take five subjects from the user and display the grade of the student,if average is 90-100(o),80-89(a+),70-79(a),\n",
        "a=0\n",
        "n=int(input())\n",
        "for i in range(1,n+1):\n",
        "  x=int(input())\n",
        "  a = a + x\n",
        "avg= a/n\n",
        "if avg>=90 and avg<=100:\n",
        "  print(\"O grade\")\n",
        "if avg>=80 and avg<=89:\n",
        "  print(\"A+ grade\")\n",
        "if avg>=70 and avg<=79:\n",
        "  print(\"A grade\")\n",
        "if avg>=60 and avg<=69:\n",
        "  print(\"B grade\")\n",
        "if avg>=50 and avg<=59:\n",
        "  print(\"C grade\")\n",
        "if avg<=49:\n",
        "  print(\"fail\")\n"
      ],
      "metadata": {
        "colab": {
          "base_uri": "https://localhost:8080/"
        },
        "id": "Ud3gN3r6KyiM",
        "outputId": "678b294a-c24c-4ec0-81d9-998a59a898bc"
      },
      "execution_count": 6,
      "outputs": [
        {
          "output_type": "stream",
          "name": "stdout",
          "text": [
            "5\n",
            "100\n",
            "52\n",
            "45\n",
            "85\n",
            "45\n",
            "B grade\n"
          ]
        }
      ]
    },
    {
      "cell_type": "code",
      "source": [
        "#write a python program that prints 1 if all three given numbers are ascending order."
      ],
      "metadata": {
        "id": "SNNH9RwpLRb9"
      },
      "execution_count": null,
      "outputs": []
    },
    {
      "cell_type": "code",
      "source": [
        "#check a given number is perfect number are not"
      ],
      "metadata": {
        "id": "BiKYMm_9LvQM"
      },
      "execution_count": null,
      "outputs": []
    },
    {
      "cell_type": "code",
      "source": [
        "#check a given string is a pallindrome or not"
      ],
      "metadata": {
        "id": "8byM_W37MEwk"
      },
      "execution_count": null,
      "outputs": []
    },
    {
      "cell_type": "code",
      "source": [
        "#find the gcd of two numbers with and without recursion(5,3=1)"
      ],
      "metadata": {
        "id": "rAQ5MUIiMe-L"
      },
      "execution_count": null,
      "outputs": []
    },
    {
      "cell_type": "code",
      "source": [
        "#print sum of even digits in a given number\n",
        "n=int(input())\n",
        "x=0\n",
        "while n>0:\n",
        "  d=n%10\n",
        "  if d%2==0:\n",
        "    x=x+d\n",
        "  n=n//10\n",
        "print(x)"
      ],
      "metadata": {
        "colab": {
          "base_uri": "https://localhost:8080/"
        },
        "id": "7a4EhpJZMw_s",
        "outputId": "939f55a2-6cf2-4bd2-d84a-da5f33461911"
      },
      "execution_count": 13,
      "outputs": [
        {
          "output_type": "stream",
          "name": "stdout",
          "text": [
            "1245\n",
            "6\n"
          ]
        }
      ]
    },
    {
      "cell_type": "code",
      "source": [
        "#calculate the product of digits of a number\n",
        "n=int(input())\n",
        "b=1\n",
        "while n>0:\n",
        "  d=n%10\n",
        "  b=b*d\n",
        "  n=n//10\n",
        "print(b)"
      ],
      "metadata": {
        "colab": {
          "base_uri": "https://localhost:8080/"
        },
        "id": "2v5pAzH7NAU0",
        "outputId": "32ba86db-9996-459b-cde0-9bc2d523d75d"
      },
      "execution_count": 12,
      "outputs": [
        {
          "output_type": "stream",
          "name": "stdout",
          "text": [
            "123\n",
            "6\n"
          ]
        }
      ]
    },
    {
      "cell_type": "code",
      "source": [
        "#write a program to calculate the sum of squares given by user(123=14)\n",
        "n=int(input())\n",
        "b=0\n",
        "while n>0:\n",
        "   d=n%10\n",
        "   b=b+d**2\n",
        "   n=n//10\n",
        "print(b)\n",
        "\n"
      ],
      "metadata": {
        "colab": {
          "base_uri": "https://localhost:8080/"
        },
        "id": "ZCML0D3lNMyr",
        "outputId": "ff7d6a06-8aa8-4513-f702-2550c5339ca3"
      },
      "execution_count": 11,
      "outputs": [
        {
          "output_type": "stream",
          "name": "stdout",
          "text": [
            "123\n",
            "14\n"
          ]
        }
      ]
    },
    {
      "cell_type": "code",
      "source": [
        "#given a string is s= abcdefcba how many times ith character from the front equals last ith element\n",
        "#print(countfrontbackmatches('abcdefcba'))"
      ],
      "metadata": {
        "id": "qEQPMyH7NW5z"
      },
      "execution_count": null,
      "outputs": []
    },
    {
      "cell_type": "code",
      "source": [
        "#given an integer n, return a list containing 1223334444.. and finaly n repeated n times(n>0)\n",
        "#print(repeatnumtimes(4))"
      ],
      "metadata": {
        "id": "Ja1i6UEjODx2"
      },
      "execution_count": null,
      "outputs": []
    },
    {
      "cell_type": "code",
      "source": [
        "#print number of vowels and consonents in a given string(gitam university)"
      ],
      "metadata": {
        "id": "bgOo-BG4PFXL"
      },
      "execution_count": null,
      "outputs": []
    },
    {
      "cell_type": "code",
      "source": [
        "#given wo integers a and b.if a <b ,print all numbers between in ascending order.if a>b print all numbers between in decending order\n"
      ],
      "metadata": {
        "id": "L9cV7iOmPgA8"
      },
      "execution_count": null,
      "outputs": []
    },
    {
      "cell_type": "code",
      "source": [
        "#program to print greatest of three numbers\n",
        "a=int(input())\n",
        "b=int(input())\n",
        "c=int(input())\n",
        "if a>b and a>c:\n",
        "  print(a)\n",
        "elif b>c and b>a:\n",
        "  print(b)\n",
        "else:\n",
        "  print(c)"
      ],
      "metadata": {
        "colab": {
          "base_uri": "https://localhost:8080/"
        },
        "id": "cNE0x2lTP6M8",
        "outputId": "0e0754e5-33d3-44ab-90b1-0d5b3f4fe5bb"
      },
      "execution_count": 7,
      "outputs": [
        {
          "output_type": "stream",
          "name": "stdout",
          "text": [
            "15\n",
            "48\n",
            "14\n",
            "48\n"
          ]
        }
      ]
    },
    {
      "cell_type": "code",
      "source": [
        "#write a program to print numbers of strings where the string length is 2 or more and the fist and last are same from given input"
      ],
      "metadata": {
        "id": "0RkNwQMEQCEy"
      },
      "execution_count": null,
      "outputs": []
    },
    {
      "cell_type": "code",
      "source": [
        "#round trip of 3+3=6 km.no of days and no of round trips.<40000 meters (need to walk more ) >40000 meters (good job)"
      ],
      "metadata": {
        "id": "qzuPBYTqROqj"
      },
      "execution_count": null,
      "outputs": []
    },
    {
      "cell_type": "code",
      "source": [
        "#given alist of students l and a charter, display thenames of the students whose first character is a gien character\n",
        "#print(student details([]))"
      ],
      "metadata": {
        "id": "nA1euNs-SCH0"
      },
      "execution_count": null,
      "outputs": []
    },
    {
      "cell_type": "code",
      "source": [
        "#given a list of city names whose length is greater than the given length"
      ],
      "metadata": {
        "id": "wTi56wAKSlIG"
      },
      "execution_count": null,
      "outputs": []
    }
  ]
}