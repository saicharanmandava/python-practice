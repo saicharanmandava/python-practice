{
  "nbformat": 4,
  "nbformat_minor": 0,
  "metadata": {
    "colab": {
      "name": "python_1.ipynb",
      "provenance": [],
      "authorship_tag": "ABX9TyOz7FczV2xU8NFEjNdtJhJ3",
      "include_colab_link": true
    },
    "kernelspec": {
      "name": "python3",
      "display_name": "Python 3"
    },
    "language_info": {
      "name": "python"
    }
  },
  "cells": [
    {
      "cell_type": "markdown",
      "metadata": {
        "id": "view-in-github",
        "colab_type": "text"
      },
      "source": [
        "<a href=\"https://colab.research.google.com/github/smandava22/python-practice/blob/main/python_1.ipynb\" target=\"_parent\"><img src=\"https://colab.research.google.com/assets/colab-badge.svg\" alt=\"Open In Colab\"/></a>"
      ]
    },
    {
      "cell_type": "code",
      "source": [
        "#write a python program to find power of number with recursion and without recursion(input n=2 , p=3)\n",
        "n=int(input())\n",
        "p=int(input())\n",
        "x=n**p\n",
        "print(x)"
      ],
      "metadata": {
        "colab": {
          "base_uri": "https://localhost:8080/"
        },
        "id": "AjdQwod0IG3l",
        "outputId": "352f6e51-19c8-419e-b325-fa526e1b3766"
      },
      "execution_count": null,
      "outputs": [
        {
          "output_type": "stream",
          "name": "stdout",
          "text": [
            "5\n",
            "6\n",
            "15625\n"
          ]
        }
      ]
    },
    {
      "cell_type": "code",
      "source": [
        "def power(n,p):\n",
        "  if p==0:\n",
        "    return 1\n",
        "  if p!=0:\n",
        "    return(n*power(n,p-1))\n",
        "n=int(input())\n",
        "p=int(input())\n",
        "print(power(n,p))"
      ],
      "metadata": {
        "colab": {
          "base_uri": "https://localhost:8080/"
        },
        "id": "V0cA6AVjxyOc",
        "outputId": "3b8f6574-f2c6-4a6a-af47-392e993264ac"
      },
      "execution_count": 1,
      "outputs": [
        {
          "output_type": "stream",
          "name": "stdout",
          "text": [
            "5\n",
            "6\n",
            "15625\n"
          ]
        }
      ]
    },
    {
      "cell_type": "code",
      "source": [
        "#write a program to sort tuple by total digits (input: list=[(3,4,6,723),(1,2),(134,234,34)])\n",
        "#output:[(1,2)(3,4,6,723)(34,134,234)]"
      ],
      "metadata": {
        "id": "9j1Xl-ckKIr7"
      },
      "execution_count": null,
      "outputs": []
    },
    {
      "cell_type": "code",
      "source": [
        "#take five subjects from the user and display the grade of the student,if average is 90-100(o),80-89(a+),70-79(a),\n",
        "a=0\n",
        "n=int(input())\n",
        "for i in range(1,n+1):\n",
        "  x=int(input())\n",
        "  a = a + x\n",
        "avg= a/n\n",
        "if avg>=90 and avg<=100:\n",
        "  print(\"O grade\")\n",
        "if avg>=80 and avg<=89:\n",
        "  print(\"A+ grade\")\n",
        "if avg>=70 and avg<=79:\n",
        "  print(\"A grade\")\n",
        "if avg>=60 and avg<=69:\n",
        "  print(\"B grade\")\n",
        "if avg>=50 and avg<=59:\n",
        "  print(\"C grade\")\n",
        "if avg<=49:\n",
        "  print(\"fail\")\n"
      ],
      "metadata": {
        "colab": {
          "base_uri": "https://localhost:8080/"
        },
        "id": "Ud3gN3r6KyiM",
        "outputId": "678b294a-c24c-4ec0-81d9-998a59a898bc"
      },
      "execution_count": null,
      "outputs": [
        {
          "output_type": "stream",
          "name": "stdout",
          "text": [
            "5\n",
            "100\n",
            "52\n",
            "45\n",
            "85\n",
            "45\n",
            "B grade\n"
          ]
        }
      ]
    },
    {
      "cell_type": "code",
      "source": [
        "#write a python program that prints 1 if all three given numbers are ascending order.\n",
        "a=float(input())\n",
        "b=float(input())\n",
        "c=float(input())\n",
        "if a<b and b<c and a<c:\n",
        "  print(\"1\")\n",
        "else:\n",
        "  print(\"0\")"
      ],
      "metadata": {
        "id": "SNNH9RwpLRb9",
        "colab": {
          "base_uri": "https://localhost:8080/"
        },
        "outputId": "2aee38ef-e21b-4877-d01d-5257a86da352"
      },
      "execution_count": 10,
      "outputs": [
        {
          "output_type": "stream",
          "name": "stdout",
          "text": [
            "56\n",
            "87\n",
            "345\n",
            "1\n"
          ]
        }
      ]
    },
    {
      "cell_type": "code",
      "source": [
        "#check a given number is perfect number are not\n",
        "n=int(input())\n",
        "sum=0\n",
        "for i in range(1,n):\n",
        "  if n%i==0:\n",
        "    sum=sum+i\n",
        "if sum==n:\n",
        "  print(\"perfect number\")\n",
        "else:\n",
        "  print(\"not a perfect number\")\n",
        "\n"
      ],
      "metadata": {
        "id": "BiKYMm_9LvQM",
        "colab": {
          "base_uri": "https://localhost:8080/"
        },
        "outputId": "1b08fa89-2400-4688-e6f4-498dea361127"
      },
      "execution_count": 20,
      "outputs": [
        {
          "output_type": "stream",
          "name": "stdout",
          "text": [
            "6\n",
            "perfect number\n"
          ]
        }
      ]
    },
    {
      "cell_type": "code",
      "source": [
        "#check a given integer is a pallindrome or not\n",
        "n=int(input())\n",
        "y=n\n",
        "sum=0\n",
        "while n>0:\n",
        "  d=n%10\n",
        "  sum=sum*10+d\n",
        "  n=n//10\n",
        "if sum==y:\n",
        "  print(\"pallindrome\")\n",
        "else:\n",
        "  print(\"not a pallindrome\")"
      ],
      "metadata": {
        "id": "8byM_W37MEwk",
        "colab": {
          "base_uri": "https://localhost:8080/"
        },
        "outputId": "4537c5a1-0ce4-4bda-a64f-add421e93dc4"
      },
      "execution_count": 6,
      "outputs": [
        {
          "output_type": "stream",
          "name": "stdout",
          "text": [
            "676\n",
            "pallindrome\n"
          ]
        }
      ]
    },
    {
      "cell_type": "code",
      "source": [
        "#check a given string is a pallindrome or not\n",
        "n=str(input())\n",
        "s=\"\"\n",
        "for i in n:\n",
        "  s=i+s\n",
        "if n==s:\n",
        "  print(\"pallindrome\")\n",
        "else:\n",
        "  print(\"not pallindrome\")"
      ],
      "metadata": {
        "colab": {
          "base_uri": "https://localhost:8080/"
        },
        "id": "Sy83MLpW14k7",
        "outputId": "d3833b3a-c664-4fa1-a622-0d04aae2e9f1"
      },
      "execution_count": 11,
      "outputs": [
        {
          "output_type": "stream",
          "name": "stdout",
          "text": [
            "sai\n",
            "not pallindrome\n"
          ]
        }
      ]
    },
    {
      "cell_type": "code",
      "source": [
        "#find the gcd of two numbers with and without recursion(5,3=1)\n",
        "a=int(input())\n",
        "b=int(input())\n",
        "math.gcd(a,b)"
      ],
      "metadata": {
        "id": "rAQ5MUIiMe-L",
        "colab": {
          "base_uri": "https://localhost:8080/"
        },
        "outputId": "38f92354-723a-4dac-e13b-5f978ee5be6c"
      },
      "execution_count": 21,
      "outputs": [
        {
          "name": "stdout",
          "output_type": "stream",
          "text": [
            "5\n",
            "10\n"
          ]
        },
        {
          "output_type": "execute_result",
          "data": {
            "text/plain": [
              "5"
            ]
          },
          "metadata": {},
          "execution_count": 21
        }
      ]
    },
    {
      "cell_type": "code",
      "source": [
        "def gcd(a,b):\n",
        "  if b==0:\n",
        "    return a\n",
        "  else:\n",
        "    return gcd(a,a%b)\n",
        "a=int(input())\n",
        "b=int(input())\n",
        "res=gcd(a,b)\n",
        "print(res)"
      ],
      "metadata": {
        "colab": {
          "base_uri": "https://localhost:8080/"
        },
        "id": "bTfEQ6TT-1YL",
        "outputId": "3d66440c-3c56-46da-d222-ee545499fec7"
      },
      "execution_count": 24,
      "outputs": [
        {
          "output_type": "stream",
          "name": "stdout",
          "text": [
            "5\n",
            "10\n",
            "5\n"
          ]
        }
      ]
    },
    {
      "cell_type": "code",
      "source": [
        "#print sum of even digits in a given number\n",
        "n=int(input())\n",
        "x=0\n",
        "while n>0:\n",
        "  d=n%10\n",
        "  if d%2==0:\n",
        "    x=x+d\n",
        "  n=n//10\n",
        "print(x)"
      ],
      "metadata": {
        "colab": {
          "base_uri": "https://localhost:8080/"
        },
        "id": "7a4EhpJZMw_s",
        "outputId": "939f55a2-6cf2-4bd2-d84a-da5f33461911"
      },
      "execution_count": null,
      "outputs": [
        {
          "output_type": "stream",
          "name": "stdout",
          "text": [
            "1245\n",
            "6\n"
          ]
        }
      ]
    },
    {
      "cell_type": "code",
      "source": [
        "#calculate the product of digits of a number\n",
        "n=int(input())\n",
        "b=1\n",
        "while n>0:\n",
        "  d=n%10\n",
        "  b=b*d\n",
        "  n=n//10\n",
        "print(b)"
      ],
      "metadata": {
        "colab": {
          "base_uri": "https://localhost:8080/"
        },
        "id": "2v5pAzH7NAU0",
        "outputId": "32ba86db-9996-459b-cde0-9bc2d523d75d"
      },
      "execution_count": null,
      "outputs": [
        {
          "output_type": "stream",
          "name": "stdout",
          "text": [
            "123\n",
            "6\n"
          ]
        }
      ]
    },
    {
      "cell_type": "code",
      "source": [
        "#write a program to calculate the sum of squares given by user(123=14)\n",
        "n=int(input())\n",
        "b=0\n",
        "while n>0:\n",
        "   d=n%10\n",
        "   b=b+d**2\n",
        "   n=n//10\n",
        "print(b)"
      ],
      "metadata": {
        "colab": {
          "base_uri": "https://localhost:8080/"
        },
        "id": "ZCML0D3lNMyr",
        "outputId": "ff7d6a06-8aa8-4513-f702-2550c5339ca3"
      },
      "execution_count": null,
      "outputs": [
        {
          "output_type": "stream",
          "name": "stdout",
          "text": [
            "123\n",
            "14\n"
          ]
        }
      ]
    },
    {
      "cell_type": "code",
      "source": [
        "#given a string is s= abcdefcba how many times ith character from the front equals last ith element\n",
        "#print(countfrontbackmatches('abcdefcba'))\n",
        "def ith_capital(x):\n",
        "  a=len(x)\n",
        "  b=a//2\n",
        "  sum=0\n",
        "  for i in range(1,b+1):\n",
        "    if x[(i-1)]==x[-i]:\n",
        "      sum = sum + 1\n",
        "  return sum\n",
        "x=str(input())\n",
        "print(ith_capital(x))"
      ],
      "metadata": {
        "id": "qEQPMyH7NW5z",
        "colab": {
          "base_uri": "https://localhost:8080/"
        },
        "outputId": "0bd0db76-f53c-4c51-c1a0-b15b64880882"
      },
      "execution_count": 17,
      "outputs": [
        {
          "output_type": "stream",
          "name": "stdout",
          "text": [
            "abcdefcba\n",
            "3\n"
          ]
        }
      ]
    },
    {
      "cell_type": "code",
      "source": [
        "#given an integer n, return a list containing 1223334444.. and finaly n repeated n times(n>0)\n",
        "#print(repeatnumtimes(4))"
      ],
      "metadata": {
        "id": "Ja1i6UEjODx2"
      },
      "execution_count": null,
      "outputs": []
    },
    {
      "cell_type": "code",
      "source": [
        "#print number of vowels and consonents in a given string(gitam university)\n",
        "a=str(input())\n",
        "x=0\n",
        "y=0\n",
        "a=a.lower()\n",
        "for i in a:\n",
        "  if i=='a' or i=='e' or i=='i' or i=='o' or i=='u':\n",
        "    x=x+1\n",
        "  elif i >= 'a' and i<='z':\n",
        "    y=y+1\n",
        "print(\"vowels = {}\".format(x))\n",
        "print(\"consonents = {}\".format(y))"
      ],
      "metadata": {
        "id": "bgOo-BG4PFXL",
        "colab": {
          "base_uri": "https://localhost:8080/"
        },
        "outputId": "56acd204-b006-480e-c7b6-1edddcf0343d"
      },
      "execution_count": 9,
      "outputs": [
        {
          "output_type": "stream",
          "name": "stdout",
          "text": [
            "sai charan\n",
            "vowels = 4\n",
            "consonents = 5\n"
          ]
        }
      ]
    },
    {
      "cell_type": "code",
      "source": [
        "#given two integers a and b.if a <b ,print all numbers between in ascending order.if a>b print all numbers between in decending order\n",
        "a=int(input())\n",
        "b=int(input())\n",
        "if a<b:\n",
        "  for i in range(a,b+1):\n",
        "    print(i)\n",
        "if a>b:\n",
        "  for i in reversed(range(b,a+1)):\n",
        "    print(i)\n",
        "    "
      ],
      "metadata": {
        "id": "L9cV7iOmPgA8",
        "colab": {
          "base_uri": "https://localhost:8080/"
        },
        "outputId": "29ce5a8a-4e46-477d-ca64-085d8df2b3e3"
      },
      "execution_count": 27,
      "outputs": [
        {
          "output_type": "stream",
          "name": "stdout",
          "text": [
            "10\n",
            "5\n",
            "10\n",
            "9\n",
            "8\n",
            "7\n",
            "6\n",
            "5\n"
          ]
        }
      ]
    },
    {
      "cell_type": "code",
      "source": [
        "#program to print greatest of three numbers\n",
        "a=int(input())\n",
        "b=int(input())\n",
        "c=int(input())\n",
        "if a>b and a>c:\n",
        "  print(a)\n",
        "elif b>c and b>a:\n",
        "  print(b)\n",
        "else:\n",
        "  print(c)"
      ],
      "metadata": {
        "colab": {
          "base_uri": "https://localhost:8080/"
        },
        "id": "cNE0x2lTP6M8",
        "outputId": "0e0754e5-33d3-44ab-90b1-0d5b3f4fe5bb"
      },
      "execution_count": null,
      "outputs": [
        {
          "output_type": "stream",
          "name": "stdout",
          "text": [
            "15\n",
            "48\n",
            "14\n",
            "48\n"
          ]
        }
      ]
    },
    {
      "cell_type": "code",
      "source": [
        "#write a program to print numbers of strings where the string length is 2 or more and the first and last are same from given input"
      ],
      "metadata": {
        "id": "0RkNwQMEQCEy"
      },
      "execution_count": null,
      "outputs": []
    },
    {
      "cell_type": "code",
      "source": [
        "#round trip of 3+3=6 km.no of days and no of round trips.<40000 meters (need to walk more ) >40000 meters (good job)"
      ],
      "metadata": {
        "id": "qzuPBYTqROqj"
      },
      "execution_count": null,
      "outputs": []
    },
    {
      "cell_type": "code",
      "source": [
        "#given alist of students l and a charter, display thenames of the students whose first character is a gien character\n",
        "#print(student details([]))"
      ],
      "metadata": {
        "id": "nA1euNs-SCH0"
      },
      "execution_count": null,
      "outputs": []
    },
    {
      "cell_type": "code",
      "source": [
        "#given a list of city names whose length is greater than the given length\n",
        "a=[]\n"
      ],
      "metadata": {
        "id": "wTi56wAKSlIG"
      },
      "execution_count": null,
      "outputs": []
    }
  ]
}