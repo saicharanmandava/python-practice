{
  "nbformat": 4,
  "nbformat_minor": 0,
  "metadata": {
    "colab": {
      "name": "python strings.ipynb",
      "provenance": [],
      "authorship_tag": "ABX9TyPoz4Dy8aixFHyzVgHH6hUf",
      "include_colab_link": true
    },
    "kernelspec": {
      "name": "python3",
      "display_name": "Python 3"
    },
    "language_info": {
      "name": "python"
    }
  },
  "cells": [
    {
      "cell_type": "markdown",
      "metadata": {
        "id": "view-in-github",
        "colab_type": "text"
      },
      "source": [
        "<a href=\"https://colab.research.google.com/github/smandava22/python-practice/blob/main/python_strings.ipynb\" target=\"_parent\"><img src=\"https://colab.research.google.com/assets/colab-badge.svg\" alt=\"Open In Colab\"/></a>"
      ]
    },
    {
      "cell_type": "code",
      "execution_count": 22,
      "metadata": {
        "colab": {
          "base_uri": "https://localhost:8080/"
        },
        "id": "eWvH4j059X9T",
        "outputId": "60c88df3-3bf9-43ad-9369-fd5eb7652173"
      },
      "outputs": [
        {
          "output_type": "stream",
          "name": "stdout",
          "text": [
            "violence violence violence I avoid but violence likes me I can't avoid\n"
          ]
        }
      ],
      "source": [
        "a=\"violence violence violence I avoid but violence likes me I can't avoid\"\n",
        "print(a)"
      ]
    },
    {
      "cell_type": "code",
      "source": [
        "a = '''VADU KANABADITHE SAMUDRALU THADAPADATHAY.\n",
        "NILAPADITHE SAMRAJYALU SAAKILAPADATHAY.\n",
        "VAADI POGARU YEGIRE JENDA,\n",
        "VADI DHIRYAM, CHEEKATLANU CHEELCHE MANDUTENDA.\n",
        "VADU BHOOTHALLI CHANUBAALU THAGINA MUDDU BIDDA.\n",
        "NAA THAMMUDU GONDU BEBBULI KOMURAM BHEEM.'''\n",
        "print(a)"
      ],
      "metadata": {
        "colab": {
          "base_uri": "https://localhost:8080/"
        },
        "id": "Kn2ghN2E-8Po",
        "outputId": "d5b7c88e-8e77-4c01-dc22-908e63660cfb"
      },
      "execution_count": 34,
      "outputs": [
        {
          "output_type": "stream",
          "name": "stdout",
          "text": [
            "VADU KANABADITHE SAMUDRALU THADAPADATHAY.\n",
            "NILAPADITHE SAMRAJYALU SAAKILAPADATHAY.\n",
            "VAADI POGARU YEGIRE JENDA,\n",
            "VADI DHIRYAM, CHEEKATLANU CHEELCHE MANDUTENDA.\n",
            "VADU BHOOTHALLI CHANUBAALU THAGINA MUDDU BIDDA.\n",
            "NAA THAMMUDU GONDU BEBBULI KOMURAM BHEEM.\n"
          ]
        }
      ]
    },
    {
      "cell_type": "code",
      "source": [
        "#length of a string\n",
        "a='Rise, Rore, Revolt'\n",
        "print(len(a))"
      ],
      "metadata": {
        "colab": {
          "base_uri": "https://localhost:8080/"
        },
        "id": "0xFctXdL_dhw",
        "outputId": "a65316a1-0c80-4bd7-bde6-096be13723cd"
      },
      "execution_count": 4,
      "outputs": [
        {
          "output_type": "stream",
          "name": "stdout",
          "text": [
            "18\n"
          ]
        }
      ]
    },
    {
      "cell_type": "code",
      "source": [
        "#checking a string\n",
        "a=\"If Tiger Takes A Rabbit, How It Will Be..Same..If You Miss The Interest You Will Get Your Date. \"\n",
        "print(\"Tiger\" in a,\"and\" in a)\n",
        "print(\"NTR\" in a )"
      ],
      "metadata": {
        "colab": {
          "base_uri": "https://localhost:8080/"
        },
        "id": "oj-QpTvc_6qo",
        "outputId": "14b98767-0363-4058-b479-f0534a54dae1"
      },
      "execution_count": 24,
      "outputs": [
        {
          "output_type": "stream",
          "name": "stdout",
          "text": [
            "True False\n",
            "False\n"
          ]
        }
      ]
    },
    {
      "cell_type": "code",
      "source": [
        "txt = \"The best things in life are free!\"\n",
        "if \"free\" in txt:\n",
        "  print(\"Yes, 'free' is present.\")"
      ],
      "metadata": {
        "colab": {
          "base_uri": "https://localhost:8080/"
        },
        "id": "AgvW-7eYDCe6",
        "outputId": "746f34f7-24af-41ad-a769-da5fc282a9b6"
      },
      "execution_count": 18,
      "outputs": [
        {
          "output_type": "stream",
          "name": "stdout",
          "text": [
            "Yes, 'free' is present.\n"
          ]
        }
      ]
    },
    {
      "cell_type": "code",
      "source": [
        "#if not in the string\n",
        "a=\"I'm SAICHARAN, and I'm from suryapet and I'm persuing my engneering at GITAM clg \"\n",
        "print(\"TEMPER\" not in a )\n",
        "print(\"SAICHARAN\" not in a)"
      ],
      "metadata": {
        "colab": {
          "base_uri": "https://localhost:8080/"
        },
        "id": "3d0GOa7fBOQB",
        "outputId": "99e2358b-37e7-4cd4-bdf4-5e6d3d66936d"
      },
      "execution_count": 14,
      "outputs": [
        {
          "output_type": "stream",
          "name": "stdout",
          "text": [
            "True\n",
            "False\n"
          ]
        }
      ]
    },
    {
      "cell_type": "code",
      "source": [
        "#slicing\n",
        "a='Rise, Rore, Revolt'\n",
        "print(a[2:7])"
      ],
      "metadata": {
        "colab": {
          "base_uri": "https://localhost:8080/"
        },
        "id": "-3azrFNFDI0X",
        "outputId": "caaae6f6-4156-46c5-d4cb-e7075bc20622"
      },
      "execution_count": 19,
      "outputs": [
        {
          "output_type": "stream",
          "name": "stdout",
          "text": [
            "se, R\n"
          ]
        }
      ]
    },
    {
      "cell_type": "code",
      "source": [
        "a=\"violence violence violence I avoid but violence likes me I can't avoid\"\n",
        "print(a[-7:-2])"
      ],
      "metadata": {
        "colab": {
          "base_uri": "https://localhost:8080/"
        },
        "id": "4nfmRrWIDW8n",
        "outputId": "4fec8c21-0832-4d96-9d63-124556c2de2c"
      },
      "execution_count": 21,
      "outputs": [
        {
          "output_type": "stream",
          "name": "stdout",
          "text": [
            "t avo\n"
          ]
        }
      ]
    },
    {
      "cell_type": "code",
      "source": [
        "a = '''VADU KANABADITHE SAMUDRALU THADAPADATHAY.\n",
        "NILAPADITHE SAMRAJYALU SAAKILAPADATHAY.\n",
        "VAADI POGARU YEGIRE JENDA,\n",
        "VADI DHIRYAM, CHEEKATLANU CHEELCHE MANDUTENDA.\n",
        "VADU BHOOTHALLI CHANUBAALU THAGINA MUDDU BIDDA.\n",
        "NAA THAMMUDU GONDU BEBBULI KOMURAM BHEEM.'''\n",
        "print(a)"
      ],
      "metadata": {
        "id": "dw3-2EKzLxFn"
      },
      "execution_count": null,
      "outputs": []
    },
    {
      "cell_type": "code",
      "source": [
        "a=\"violence violence violence I avoid but violence likes me I can't avoid\"\n",
        "print(a.replace(\"violence\",\"Bunk\"))"
      ],
      "metadata": {
        "colab": {
          "base_uri": "https://localhost:8080/"
        },
        "id": "5ywvPgpVEOLP",
        "outputId": "065f7103-7e30-4053-c137-70c1865a497d"
      },
      "execution_count": 31,
      "outputs": [
        {
          "output_type": "stream",
          "name": "stdout",
          "text": [
            "Bunk Bunk Bunk I avoid but Bunk likes me I can't avoid\n"
          ]
        }
      ]
    },
    {
      "cell_type": "code",
      "source": [
        "a=\"If Tiger Takes A Rabbit, How It Will Be..Same..If You Miss The Interest You Will Get Your Date. \"\n",
        "print(a[:])"
      ],
      "metadata": {
        "colab": {
          "base_uri": "https://localhost:8080/"
        },
        "id": "1dxzhSohFfYW",
        "outputId": "05fac47e-d3ee-450f-f151-dd7dcfeb8158"
      },
      "execution_count": 25,
      "outputs": [
        {
          "output_type": "stream",
          "name": "stdout",
          "text": [
            "If Tiger Takes A Rabbit, How It Will Be..Same..If You Miss The Interest You Will Get Your Date. \n"
          ]
        }
      ]
    },
    {
      "cell_type": "code",
      "source": [
        "a=\"Dungi Dungi, Nakki Nakki, Gaadhe Tokkukuntoo Povale, Eduruvachina Vadini vesukuntoo povale.\"\n",
        "print (a.upper())\n",
        "print (a.lower())"
      ],
      "metadata": {
        "colab": {
          "base_uri": "https://localhost:8080/"
        },
        "id": "FoHGBRuMGggx",
        "outputId": "a7ca10aa-dfae-44ef-cb63-370e7290f4de"
      },
      "execution_count": 35,
      "outputs": [
        {
          "output_type": "stream",
          "name": "stdout",
          "text": [
            "DUNGI DUNGI, NAKKI NAKKI, GAADHE TOKKUKUNTOO POVALE, EDURUVACHINA VADINI VESUKUNTOO POVALE.\n",
            "dungi dungi, nakki nakki, gaadhe tokkukuntoo povale, eduruvachina vadini vesukuntoo povale.\n"
          ]
        }
      ]
    },
    {
      "cell_type": "code",
      "source": [
        "a=\"          Bheem, Ee Nakkala Veta Entha Sepu? Kumbhasthalanni Baddalu Kodadham Pada         \"\n",
        "print(a)\n",
        "print(a.strip())"
      ],
      "metadata": {
        "colab": {
          "base_uri": "https://localhost:8080/"
        },
        "id": "Q_0o4NAoHkSB",
        "outputId": "4db9b367-03e2-4496-a7df-2c803911bdcc"
      },
      "execution_count": 36,
      "outputs": [
        {
          "output_type": "stream",
          "name": "stdout",
          "text": [
            "          Bheem, Ee Nakkala Veta Entha Sepu? Kumbhasthalanni Baddalu Kodadham Pada         \n",
            "Bheem, Ee Nakkala Veta Entha Sepu? Kumbhasthalanni Baddalu Kodadham Pada\n"
          ]
        }
      ]
    },
    {
      "cell_type": "code",
      "source": [
        "a=\"Username Daya...\"\n",
        "b=\"Password Police\"\n",
        "c=a+b\n",
        "print(c)"
      ],
      "metadata": {
        "colab": {
          "base_uri": "https://localhost:8080/"
        },
        "id": "TYS49eIqKE6t",
        "outputId": "e19ade37-aa0a-4a71-9ba0-bc18c8bcffef"
      },
      "execution_count": 33,
      "outputs": [
        {
          "output_type": "stream",
          "name": "stdout",
          "text": [
            "Username Daya...Password Police\n"
          ]
        }
      ]
    },
    {
      "cell_type": "code",
      "source": [
        "age=18\n",
        "name=\"I'm saicharan and my age is {}\"\n",
        "print(name.format(age))"
      ],
      "metadata": {
        "colab": {
          "base_uri": "https://localhost:8080/"
        },
        "id": "MFu_KCdMNGbN",
        "outputId": "1a7d98c0-c771-4868-92e3-0643796e6609"
      },
      "execution_count": 37,
      "outputs": [
        {
          "output_type": "stream",
          "name": "stdout",
          "text": [
            "I'm saicharan and my age 18\n"
          ]
        }
      ]
    },
    {
      "cell_type": "code",
      "source": [
        "first = 223\n",
        "second= 100\n",
        "third= 84\n",
        "collections=\"first day collections of rrr movie {} Cr,second day collections of rrr movie {} Cr, third day collections of rrr movie {} Cr\"\n",
        "print(collections.format(first, second, third))"
      ],
      "metadata": {
        "colab": {
          "base_uri": "https://localhost:8080/"
        },
        "id": "aXafGlpYNr_n",
        "outputId": "cb9d013d-3146-490b-a784-f08d9a741c50"
      },
      "execution_count": 42,
      "outputs": [
        {
          "output_type": "stream",
          "name": "stdout",
          "text": [
            "first day collections of rrr movie 223 Cr,second day collections of rrr movie 100 Cr, third day collections of rrr movie 84 Cr\n"
          ]
        }
      ]
    }
  ]
}