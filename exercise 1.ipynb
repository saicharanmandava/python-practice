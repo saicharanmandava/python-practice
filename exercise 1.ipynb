{
 "cells": [
  {
   "cell_type": "code",
   "execution_count": null,
   "id": "90d8c5e5",
   "metadata": {},
   "outputs": [],
   "source": [
    "a=int(input(\"\"))\n",
    "print(a)"
   ]
  },
  {
   "cell_type": "code",
   "execution_count": null,
   "id": "a2be4dbe",
   "metadata": {},
   "outputs": [],
   "source": [
    "a=int(input(\"\"))\n",
    "print(float(a))\n",
    "print(str(a))\n",
    "print(complex(a))\n",
    "print(str(a))"
   ]
  },
  {
   "cell_type": "code",
   "execution_count": null,
   "id": "795a57b7",
   "metadata": {},
   "outputs": [],
   "source": [
    "a=int(input(\"\"))\n",
    "b=int(input(\"\"))\n",
    "print(a+b)\n",
    "print(a-b)\n",
    "print(a*b)\n",
    "print(a/b)\n"
   ]
  },
  {
   "cell_type": "code",
   "execution_count": 1,
   "id": "40615d72",
   "metadata": {},
   "outputs": [
    {
     "name": "stdout",
     "output_type": "stream",
     "text": [
      "10\n",
      "<class 'int'>\n",
      "<class 'float'>\n"
     ]
    }
   ],
   "source": [
    "a=int(input(\"\"))\n",
    "print(type(a))\n",
    "b=float(a)\n",
    "print(type(b))"
   ]
  },
  {
   "cell_type": "code",
   "execution_count": 4,
   "id": "e8690420",
   "metadata": {},
   "outputs": [
    {
     "name": "stdout",
     "output_type": "stream",
     "text": [
      "2\n",
      "120 seconds\n"
     ]
    }
   ],
   "source": [
    "#hours to minutes\n",
    "a=int(input(\"\")) #hours\n",
    "print(a*60,\"seconds\")"
   ]
  },
  {
   "cell_type": "code",
   "execution_count": 6,
   "id": "f206994a",
   "metadata": {},
   "outputs": [
    {
     "name": "stdout",
     "output_type": "stream",
     "text": [
      "23\n",
      "37.01482 KM\n"
     ]
    }
   ],
   "source": [
    "a=int(input(\"\"))\n",
    "print(a*1.60934,\"KM\")"
   ]
  },
  {
   "cell_type": "code",
   "execution_count": 32,
   "id": "b258f4d1",
   "metadata": {},
   "outputs": [
    {
     "name": "stdout",
     "output_type": "stream",
     "text": [
      "9\n",
      "3\n",
      "9\n",
      "9\n",
      "9.0\n",
      "0.0\n",
      "3.0\n",
      "729.0\n",
      "9\n"
     ]
    }
   ],
   "source": [
    "#usage of mathematical fuctions in python like math.ceil,floor,fabs,fmod,trunc,pow,sqrt etc\n",
    "import math\n",
    "a=float(input(\"\"))\n",
    "b=float(input(\"\"))\n",
    "print(math.ceil(a)) #rounding off to nearest number and printing greatest integer\n",
    "print(math.floor(a)) #taking only integer value and printing smallest integer\n",
    "print(math.fabs(a))   #printing the modulus value\n",
    "print(math.fmod(a,b)) #remainder\n",
    "print(math.sqrt(a)) #squaring\n",
    "print(math.pow(a,b))\n",
    "print(math.trunc(a)) #"
   ]
  },
  {
   "cell_type": "code",
   "execution_count": 33,
   "id": "89b68b94",
   "metadata": {},
   "outputs": [
    {
     "name": "stdout",
     "output_type": "stream",
     "text": [
      "10\n",
      "20\n",
      "+\n",
      "30.0\n"
     ]
    }
   ],
   "source": [
    "#maths calculator\n",
    "a=float(input(\"\"))\n",
    "b=float(input(\"\"))\n",
    "c=str(input(\"\"))\n",
    "if c=='+':\n",
    " print(a+b)\n",
    "elif c=='-' :\n",
    "    print(a-b)\n",
    "elif c=='*':\n",
    "    print(a*b)\n",
    "else:\n",
    "    print(a/b)"
   ]
  },
  {
   "cell_type": "code",
   "execution_count": 35,
   "id": "3d0729c3",
   "metadata": {},
   "outputs": [
    {
     "name": "stdout",
     "output_type": "stream",
     "text": [
      "90\n",
      "56\n",
      "25\n",
      "24\n",
      "45\n",
      "FAIL\n"
     ]
    }
   ],
   "source": [
    "#grade\n",
    "a=int(input(\"\"))\n",
    "b=int(input(\"\"))\n",
    "c=int(input(\"\"))\n",
    "d=int(input(\"\"))\n",
    "e=int(input(\"\"))\n",
    "f=(a+b+c+d+e)/5\n",
    "if f>=90:\n",
    "    print(\"O\")\n",
    "elif f>80 and f<90:\n",
    "    print(\"A\")\n",
    "else:\n",
    "    print(\"FAIL\")"
   ]
  },
  {
   "cell_type": "code",
   "execution_count": null,
   "id": "ec7b821b",
   "metadata": {},
   "outputs": [],
   "source": []
  },
  {
   "cell_type": "code",
   "execution_count": 52,
   "id": "486db90d",
   "metadata": {},
   "outputs": [
    {
     "name": "stdout",
     "output_type": "stream",
     "text": [
      "2\n",
      "4\n",
      "6\n",
      "8\n",
      "10\n",
      "12\n",
      "14\n",
      "16\n",
      "18\n",
      "20\n",
      "22\n",
      "24\n",
      "26\n",
      "28\n",
      "30\n",
      "32\n",
      "34\n",
      "36\n",
      "38\n",
      "40\n",
      "42\n",
      "44\n",
      "46\n",
      "48\n",
      "50\n",
      "52\n",
      "54\n",
      "56\n",
      "58\n",
      "60\n",
      "62\n",
      "64\n",
      "66\n",
      "68\n",
      "70\n",
      "72\n",
      "74\n",
      "76\n",
      "78\n",
      "80\n",
      "82\n",
      "84\n",
      "86\n",
      "88\n",
      "90\n",
      "92\n",
      "94\n",
      "96\n",
      "98\n"
     ]
    }
   ],
   "source": [
    "for i in range(1,100):\n",
    "    if i%2==0:\n",
    "        print(i)\n",
    "    "
   ]
  },
  {
   "cell_type": "code",
   "execution_count": null,
   "id": "d429aac5",
   "metadata": {},
   "outputs": [],
   "source": []
  },
  {
   "cell_type": "code",
   "execution_count": null,
   "id": "f62d7c2c",
   "metadata": {},
   "outputs": [],
   "source": []
  },
  {
   "cell_type": "code",
   "execution_count": null,
   "id": "71897a46",
   "metadata": {},
   "outputs": [],
   "source": []
  }
 ],
 "metadata": {
  "kernelspec": {
   "display_name": "Python 3 (ipykernel)",
   "language": "python",
   "name": "python3"
  },
  "language_info": {
   "codemirror_mode": {
    "name": "ipython",
    "version": 3
   },
   "file_extension": ".py",
   "mimetype": "text/x-python",
   "name": "python",
   "nbconvert_exporter": "python",
   "pygments_lexer": "ipython3",
   "version": "3.9.7"
  }
 },
 "nbformat": 4,
 "nbformat_minor": 5
}
