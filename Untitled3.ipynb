{
  "nbformat": 4,
  "nbformat_minor": 0,
  "metadata": {
    "colab": {
      "name": "Untitled3.ipynb",
      "provenance": [],
      "authorship_tag": "ABX9TyNB3LuXmZ2Zhby6kBP9wpMS",
      "include_colab_link": true
    },
    "kernelspec": {
      "name": "python3",
      "display_name": "Python 3"
    },
    "language_info": {
      "name": "python"
    }
  },
  "cells": [
    {
      "cell_type": "markdown",
      "metadata": {
        "id": "view-in-github",
        "colab_type": "text"
      },
      "source": [
        "<a href=\"https://colab.research.google.com/github/smandava22/python-practice/blob/main/Untitled3.ipynb\" target=\"_parent\"><img src=\"https://colab.research.google.com/assets/colab-badge.svg\" alt=\"Open In Colab\"/></a>"
      ]
    },
    {
      "cell_type": "code",
      "execution_count": 17,
      "metadata": {
        "colab": {
          "base_uri": "https://localhost:8080/"
        },
        "id": "23AkHg9CdfLM",
        "outputId": "af4754c4-357d-4322-d0e9-828744d41e88"
      },
      "outputs": [
        {
          "output_type": "stream",
          "name": "stdout",
          "text": [
            "25\n",
            "50\n",
            "29\n",
            "31\n",
            "37\n",
            "41\n",
            "43\n",
            "47\n"
          ]
        }
      ],
      "source": [
        "#write a progam to print prime numbers in given range by using functions(25,50).\n",
        "def prime(a,b):\n",
        "  for i in range(a,b+1):\n",
        "    sum=0\n",
        "    for n in range(1,i+1):\n",
        "      if i%n==0:\n",
        "         sum=sum+1\n",
        "    if sum==2:\n",
        "        print(i)\n",
        "a=int(input())\n",
        "b=int(input())\n",
        "prime(a,b)"
      ]
    },
    {
      "cell_type": "code",
      "source": [
        "#write program to read any month in integer and display days for that month.\n",
        "a=int(input())\n",
        "if a==1 or a==3 or a==5 or a==7 or a==8 or a==10 or a==12:\n",
        "  print(\"31 Days\")\n",
        "elif a==4 or a==6 or a==9 or a==11:\n",
        "  print(\"30 days\")\n",
        "elif a==2:\n",
        "  print(\"28 or 29 days\")\n",
        "else:\n",
        "  print(\"wrong choice\")"
      ],
      "metadata": {
        "colab": {
          "base_uri": "https://localhost:8080/"
        },
        "id": "ApVGEaVniJtS",
        "outputId": "9617b2e6-2b87-439a-dca2-111945fbcb9d"
      },
      "execution_count": 20,
      "outputs": [
        {
          "output_type": "stream",
          "name": "stdout",
          "text": [
            "2\n",
            "28 or 29 days\n"
          ]
        }
      ]
    },
    {
      "cell_type": "code",
      "source": [
        "#write a python program to print even length words in string.\n",
        "#   input:   \" this is a python class\"\n",
        "#  output: this\n",
        "#           is\n",
        "#           python\n",
        "a=str(input())\n",
        "b=a.split(' ')\n",
        "for i in b:\n",
        "  if len(i)%2==0:\n",
        "    print(i)\n",
        "\n",
        "\n"
      ],
      "metadata": {
        "colab": {
          "base_uri": "https://localhost:8080/"
        },
        "id": "s8k6MOjliudh",
        "outputId": "cbb321aa-c2e0-491d-c190-ef77c8e03631"
      },
      "execution_count": 29,
      "outputs": [
        {
          "output_type": "stream",
          "name": "stdout",
          "text": [
            "this is a python class\n",
            "this\n",
            "is\n",
            "python\n"
          ]
        }
      ]
    },
    {
      "cell_type": "code",
      "source": [
        "#write a program to read a string from user display first chacter of each word with capital letter.\n",
        "a=str(input())\n",
        "b=a.split(' ')\n",
        "for i in b:\n",
        "  x=i.capitalize()\n",
        "  print(x,end=\" \")\n"
      ],
      "metadata": {
        "colab": {
          "base_uri": "https://localhost:8080/"
        },
        "id": "uR0275o_pc7p",
        "outputId": "4d957713-e82b-4d48-aa46-a5b1fa928259"
      },
      "execution_count": 36,
      "outputs": [
        {
          "output_type": "stream",
          "name": "stdout",
          "text": [
            "dfgxf fdg fhfg \n",
            "Dfgxf Fdg Fhfg  "
          ]
        }
      ]
    },
    {
      "cell_type": "code",
      "source": [
        "#write a python program to captalise the first and last of each word\n",
        "a=str(input())\n",
        "b=a.split(' ')\n",
        "z=\"\"\n",
        "for i in b:\n",
        "  x=i.capitalize()\n",
        "  y=i[-1].capitalize()\n",
        "  z=x[0:-1]+y\n",
        "  print(z,end=\" \")"
      ],
      "metadata": {
        "colab": {
          "base_uri": "https://localhost:8080/"
        },
        "id": "MWhzauI8rL2y",
        "outputId": "05d490e4-7ef8-473b-cf77-da2aec110407"
      },
      "execution_count": 37,
      "outputs": [
        {
          "output_type": "stream",
          "name": "stdout",
          "text": [
            "fsdgf ergrfg ereg\n",
            "FsdgF ErgrfG EreG "
          ]
        }
      ]
    },
    {
      "cell_type": "code",
      "source": [
        "#write a python program to convert a list of multiple integers into a single line.\n",
        " #   input:[11,22,33]\n",
        "#    output:112233\n",
        "a=eval(input())\n",
        "b=\"\"\n",
        "for i in a:\n",
        "  b+=str(i)\n",
        "print(b)"
      ],
      "metadata": {
        "colab": {
          "base_uri": "https://localhost:8080/"
        },
        "id": "dxbCDcsGvjKB",
        "outputId": "d3fb0116-8c97-42a3-800a-76e5cfb5344c"
      },
      "execution_count": 39,
      "outputs": [
        {
          "output_type": "stream",
          "name": "stdout",
          "text": [
            "[11,22,33]\n",
            "112233\n"
          ]
        }
      ]
    },
    {
      "cell_type": "code",
      "source": [
        ""
      ],
      "metadata": {
        "id": "q87OodqJvfUD"
      },
      "execution_count": null,
      "outputs": []
    }
  ]
}