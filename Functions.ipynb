{
  "nbformat": 4,
  "nbformat_minor": 0,
  "metadata": {
    "colab": {
      "name": "Functions.ipynb",
      "provenance": [],
      "authorship_tag": "ABX9TyMxX+Uvr13yrWzkcT25rSd4",
      "include_colab_link": true
    },
    "kernelspec": {
      "name": "python3",
      "display_name": "Python 3"
    },
    "language_info": {
      "name": "python"
    }
  },
  "cells": [
    {
      "cell_type": "markdown",
      "metadata": {
        "id": "view-in-github",
        "colab_type": "text"
      },
      "source": [
        "<a href=\"https://colab.research.google.com/github/smandava22/python-practice/blob/main/Functions.ipynb\" target=\"_parent\"><img src=\"https://colab.research.google.com/assets/colab-badge.svg\" alt=\"Open In Colab\"/></a>"
      ]
    },
    {
      "cell_type": "code",
      "execution_count": 16,
      "metadata": {
        "colab": {
          "base_uri": "https://localhost:8080/"
        },
        "id": "R6GZP8YxVbYU",
        "outputId": "e16dd71a-f8d3-4ebb-ec38-997b1c112e25"
      },
      "outputs": [
        {
          "output_type": "stream",
          "name": "stdout",
          "text": [
            "hi\n",
            "hello\n",
            "NTR\n"
          ]
        }
      ],
      "source": [
        "def saicharan(): #function header\n",
        "  print(\"hi\")\n",
        "  print(\"hello\")\n",
        "  print(\"NTR\")\n",
        "saicharan() # calling function"
      ]
    },
    {
      "cell_type": "code",
      "source": [
        "def movie(hero): # passing one Arguments\n",
        "  print(hero + \" R\")\n",
        "movie(\"Ram charan\")\n",
        "movie(\"Rama Rao\")\n",
        "movie(\"Rajamouli\")"
      ],
      "metadata": {
        "colab": {
          "base_uri": "https://localhost:8080/"
        },
        "id": "qSqFvyx2YZFx",
        "outputId": "701a7d45-7e13-4f1f-8e47-2938a1df9630"
      },
      "execution_count": 20,
      "outputs": [
        {
          "output_type": "stream",
          "name": "stdout",
          "text": [
            "Ram charan R\n",
            "Rama Rao R\n",
            "Rajamouli R\n"
          ]
        }
      ]
    },
    {
      "cell_type": "code",
      "source": [
        "def movie(hero,actor): # passing two Arguments\n",
        "  print(hero + \" as \" + actor)\n",
        "movie(\"Ram charan\" , \"hero\")\n",
        "movie(\"Rama Rao\" , \"hero\")\n",
        "movie(\"Rajamouli\" , \"director\")"
      ],
      "metadata": {
        "colab": {
          "base_uri": "https://localhost:8080/"
        },
        "id": "NuOhzXdSZ0Qe",
        "outputId": "e7480368-820a-4386-d17e-06b16b38a2a2"
      },
      "execution_count": 24,
      "outputs": [
        {
          "output_type": "stream",
          "name": "stdout",
          "text": [
            "Ram charan as hero\n",
            "Rama Rao as hero\n",
            "Rajamouli as director\n"
          ]
        }
      ]
    },
    {
      "cell_type": "code",
      "source": [
        "def voting(name,age,gender):\n",
        "  print(\"name = \",name +\"age = \", age +\"gender = \", gender)\n",
        "voting(\"saicharan  \",\"18 \",\"male\")\n",
        "voting(\"sai pavan  \", \" 23 \", \"female\")\n",
        "voting(\"kaushik  \",\" 18 \",\"not define\")"
      ],
      "metadata": {
        "colab": {
          "base_uri": "https://localhost:8080/"
        },
        "id": "k6JTPGyTZpXb",
        "outputId": "caf2f95b-f725-4926-e208-1c273656866c"
      },
      "execution_count": 28,
      "outputs": [
        {
          "output_type": "stream",
          "name": "stdout",
          "text": [
            "name =  saicharan  age =  18 gender =  male\n",
            "name =  sai pavan  age =   23 gender =  female\n",
            "name =  kaushik  age =   18 gender =  not define\n"
          ]
        }
      ]
    },
    {
      "cell_type": "code",
      "source": [
        "def voting(name,age,gender):\n",
        "  print(\"name = \",name,\" age = \",age,\" gender = \",gender)\n",
        "voting(str(input()),int(input()),str(input()))"
      ],
      "metadata": {
        "colab": {
          "base_uri": "https://localhost:8080/"
        },
        "id": "BgrM3YIWexFo",
        "outputId": "d45bdee5-3c26-40af-a8aa-878d58c881fb"
      },
      "execution_count": 31,
      "outputs": [
        {
          "output_type": "stream",
          "name": "stdout",
          "text": [
            "sai\n",
            "18\n",
            "m\n",
            "name =  sai  age =  18  gender =  m\n"
          ]
        }
      ]
    },
    {
      "cell_type": "code",
      "source": [
        "def"
      ],
      "metadata": {
        "id": "RorUZ8zYjF6W"
      },
      "execution_count": null,
      "outputs": []
    },
    {
      "cell_type": "code",
      "source": [
        ""
      ],
      "metadata": {
        "id": "q5bF-0l0jGs-"
      },
      "execution_count": null,
      "outputs": []
    },
    {
      "cell_type": "code",
      "source": [
        ""
      ],
      "metadata": {
        "id": "0M2V0bD9jHOG"
      },
      "execution_count": null,
      "outputs": []
    }
  ]
}