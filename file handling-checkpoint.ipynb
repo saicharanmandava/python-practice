{
 "cells": [
  {
   "cell_type": "markdown",
   "id": "8d492148",
   "metadata": {},
   "source": [
    "### opening a file\n"
   ]
  },
  {
   "cell_type": "code",
   "execution_count": 17,
   "id": "52d831a1",
   "metadata": {},
   "outputs": [
    {
     "name": "stdout",
     "output_type": "stream",
     "text": [
      "Battery (all-electric auxiliary): In an electric drive vehicle, the auxiliary battery provides electricity to power vehicle accessories.\n",
      "Charge port: The charge port allows the vehicle to connect to an external power supply in order to charge the traction battery pack.\n",
      "DC/DC converter: This device converts higher-voltage DC power from the traction battery pack to the lower-voltage DC power needed to run vehicle accessories and recharge the auxiliary battery.\n"
     ]
    }
   ],
   "source": [
    "f = open(\"E:\\charan.txt\",\"r\")\n",
    "print(f.read())"
   ]
  },
  {
   "cell_type": "code",
   "execution_count": 16,
   "id": "44b35d96",
   "metadata": {},
   "outputs": [
    {
     "name": "stdout",
     "output_type": "stream",
     "text": [
      "Bat\n"
     ]
    }
   ],
   "source": [
    "#reading a file upto given range\n",
    "f = open(\"E:\\charan.txt\",\"r\")\n",
    "print(f.read(3))"
   ]
  },
  {
   "cell_type": "code",
   "execution_count": 15,
   "id": "5194b9d5",
   "metadata": {},
   "outputs": [
    {
     "name": "stdout",
     "output_type": "stream",
     "text": [
      "Battery (all-electric auxiliary): In an electric drive vehicle, the auxiliary battery provides electricity to power vehicle accessories.\n",
      "\n"
     ]
    }
   ],
   "source": [
    "f = open(\"E:\\charan.txt\",\"r\")\n",
    "print(f.readline())"
   ]
  },
  {
   "cell_type": "code",
   "execution_count": 14,
   "id": "cfeec07a",
   "metadata": {},
   "outputs": [
    {
     "name": "stdout",
     "output_type": "stream",
     "text": [
      "Battery (all-electric auxiliary): In an electric drive vehicle, the auxiliary battery provides electricity to power vehicle accessories.\n",
      "\n",
      "Charge port: The charge port allows the vehicle to connect to an external power supply in order to charge the traction battery pack.\n",
      "\n"
     ]
    }
   ],
   "source": [
    "f = open(\"E:\\charan.txt\",\"r\")\n",
    "print(f.readline())\n",
    "print(f.readline())"
   ]
  },
  {
   "cell_type": "code",
   "execution_count": 12,
   "id": "254873eb",
   "metadata": {},
   "outputs": [
    {
     "name": "stdout",
     "output_type": "stream",
     "text": [
      "sai charan\n",
      "\n",
      "107\n",
      "\n"
     ]
    }
   ],
   "source": [
    "#loops\n",
    "f = open(\"E:\\charan.txt\",\"r\")\n",
    "for x in f:\n",
    "  print(x)"
   ]
  },
  {
   "cell_type": "code",
   "execution_count": 13,
   "id": "b27ff983",
   "metadata": {},
   "outputs": [
    {
     "name": "stdout",
     "output_type": "stream",
     "text": [
      "Battery (all-electric auxiliary): In an electric drive vehicle, the auxiliary battery provides electricity to power vehicle accessories.\n",
      "\n"
     ]
    }
   ],
   "source": [
    "f = open(\"E:\\charan.txt\",\"r\")\n",
    "print(f.readline())\n",
    "f.close()"
   ]
  },
  {
   "cell_type": "markdown",
   "id": "31581406",
   "metadata": {},
   "source": [
    "### writing"
   ]
  },
  {
   "cell_type": "code",
   "execution_count": 19,
   "id": "4bdfd2e7",
   "metadata": {},
   "outputs": [
    {
     "name": "stdout",
     "output_type": "stream",
     "text": [
      "Battery (all-electric auxiliary): In an electric drive vehicle, the auxiliary battery provides electricity to power vehicle accessories.\n",
      "Charge port: The charge port allows the vehicle to connect to an external power supply in order to charge the traction battery pack.\n",
      "DC/DC converter: This device converts higher-voltage DC power from the traction battery pack to the lower-voltage DC power needed to run vehicle accessories and recharge the auxiliary battery.Now the file has more content!\n"
     ]
    }
   ],
   "source": [
    "f = open(\"E:\\charan.txt\",\"a\")\n",
    "f.write(\"Now the file has more content!\")\n",
    "f.close()\n",
    "\n",
    "#open and read the file after the appending:\n",
    "f = open(\"E:\\charan.txt\",\"r\")\n",
    "print(f.read())"
   ]
  },
  {
   "cell_type": "code",
   "execution_count": 22,
   "id": "f275dcb7",
   "metadata": {},
   "outputs": [
    {
     "name": "stdout",
     "output_type": "stream",
     "text": [
      "Woops! I have deleted the content!\n"
     ]
    }
   ],
   "source": [
    "f = open(\"E:\\charan.txt\",\"w\")\n",
    "f.write(\"Woops! I have deleted the content!\")\n",
    "f.close()\n",
    "#open and read the file after the appending:\n",
    "f = open(\"E:\\charan.txt\",\"r\")\n",
    "print(f.read())"
   ]
  },
  {
   "cell_type": "markdown",
   "id": "c6fdb5a1",
   "metadata": {},
   "source": [
    "### creating a file"
   ]
  },
  {
   "cell_type": "code",
   "execution_count": 48,
   "id": "75ef4d03",
   "metadata": {},
   "outputs": [
    {
     "name": "stdout",
     "output_type": "stream",
     "text": [
      "Now the file has more content!\n"
     ]
    }
   ],
   "source": [
    "f = open(\"E:\\\\107.txt\", \"x\")\n",
    "f = open(\"E:\\\\107.txt\", \"w\")\n",
    "f.write(\"Now the file has more content!\")\n",
    "f.close()\n",
    "f=open(\"E:\\\\107.txt\",\"r\")\n",
    "print(f.read())\n",
    "f.close()"
   ]
  },
  {
   "cell_type": "markdown",
   "id": "f33a37e5",
   "metadata": {},
   "source": [
    "### remove file"
   ]
  },
  {
   "cell_type": "code",
   "execution_count": 49,
   "id": "052318b6",
   "metadata": {},
   "outputs": [],
   "source": [
    "import os\n",
    "os.remove(\"E:\\\\107.txt\")"
   ]
  },
  {
   "cell_type": "code",
   "execution_count": null,
   "id": "59df9d52",
   "metadata": {},
   "outputs": [],
   "source": []
  },
  {
   "cell_type": "code",
   "execution_count": null,
   "id": "557fee68",
   "metadata": {},
   "outputs": [],
   "source": []
  },
  {
   "cell_type": "code",
   "execution_count": null,
   "id": "4d90655e",
   "metadata": {},
   "outputs": [],
   "source": []
  }
 ],
 "metadata": {
  "kernelspec": {
   "display_name": "Python 3 (ipykernel)",
   "language": "python",
   "name": "python3"
  },
  "language_info": {
   "codemirror_mode": {
    "name": "ipython",
    "version": 3
   },
   "file_extension": ".py",
   "mimetype": "text/x-python",
   "name": "python",
   "nbconvert_exporter": "python",
   "pygments_lexer": "ipython3",
   "version": "3.9.7"
  }
 },
 "nbformat": 4,
 "nbformat_minor": 5
}
